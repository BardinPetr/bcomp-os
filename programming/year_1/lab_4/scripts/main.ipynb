{
 "cells": [
  {
   "cell_type": "code",
   "execution_count": 36,
   "metadata": {
    "ExecuteTime": {
     "end_time": "2022-10-20T10:52:38.043146Z",
     "start_time": "2022-10-20T10:52:32.697996Z"
    }
   },
   "outputs": [
    {
     "name": "stdout",
     "output_type": "stream",
     "text": [
      "Defaulting to user installation because normal site-packages is not writeable\n",
      "Requirement already satisfied: pymorphy2 in /home/petr/.local/lib/python3.10/site-packages (0.9.1)\n",
      "Requirement already satisfied: dawg-python>=0.7.1 in /home/petr/.local/lib/python3.10/site-packages (from pymorphy2) (0.7.2)\n",
      "Requirement already satisfied: pymorphy2-dicts-ru<3.0,>=2.4 in /home/petr/.local/lib/python3.10/site-packages (from pymorphy2) (2.4.417127.4579844)\n",
      "Requirement already satisfied: docopt>=0.6 in /usr/lib/python3.10/site-packages (from pymorphy2) (0.6.2)\n"
     ]
    }
   ],
   "source": [
    "# !pip install networkx\n",
    "# !pip install pymorphy2"
   ]
  },
  {
   "cell_type": "code",
   "execution_count": 2,
   "metadata": {
    "ExecuteTime": {
     "end_time": "2022-10-20T10:27:52.585327Z",
     "start_time": "2022-10-20T10:27:52.083587Z"
    },
    "pycharm": {
     "is_executing": true,
     "name": "#%%\n"
    }
   },
   "outputs": [],
   "source": [
    "from natasha import (\n",
    "    Segmenter,\n",
    "    MorphVocab,\n",
    "    NewsEmbedding,\n",
    "    NewsMorphTagger,\n",
    "    NewsSyntaxParser,\n",
    "    NewsNERTagger,\n",
    "    NamesExtractor,\n",
    "    Doc\n",
    ")\n",
    "from navec import Navec\n",
    "import networkx as nx\n",
    "from spacy_conll import init_parser\n",
    "from spacy_conll.parser import ConllParser"
   ]
  },
  {
   "cell_type": "code",
   "execution_count": 3,
   "metadata": {
    "ExecuteTime": {
     "end_time": "2022-10-20T10:27:53.610637Z",
     "start_time": "2022-10-20T10:27:52.589160Z"
    }
   },
   "outputs": [],
   "source": [
    "import matplotlib.pyplot as plt\n",
    "%matplotlib inline"
   ]
  },
  {
   "cell_type": "code",
   "execution_count": 4,
   "metadata": {
    "ExecuteTime": {
     "end_time": "2022-10-20T10:27:53.919004Z",
     "start_time": "2022-10-20T10:27:53.614545Z"
    }
   },
   "outputs": [],
   "source": [
    "segmenter = Segmenter()\n",
    "morph_vocab = MorphVocab()"
   ]
  },
  {
   "cell_type": "code",
   "execution_count": 5,
   "metadata": {
    "ExecuteTime": {
     "end_time": "2022-10-20T10:27:54.624814Z",
     "start_time": "2022-10-20T10:27:53.923002Z"
    }
   },
   "outputs": [],
   "source": [
    "# !wget https://storage.yandexcloud.net/natasha-navec/packs/navec_hudlit_v1_12B_500K_300d_100q.tar\n",
    "# emb = Navec.load(\"navec_hudlit_v1_12B_500K_300d_100q.tar\")\n",
    "emb = NewsEmbedding()"
   ]
  },
  {
   "cell_type": "code",
   "execution_count": 6,
   "metadata": {
    "ExecuteTime": {
     "end_time": "2022-10-20T10:27:54.633043Z",
     "start_time": "2022-10-20T10:27:54.629012Z"
    }
   },
   "outputs": [],
   "source": [
    "# !wget https://storage.yandexcloud.net/natasha-navec/packs/navec_hudlit_v1_12B_500K_300d_100q.tar\n",
    "# tagger = NERTagger(emb, )"
   ]
  },
  {
   "cell_type": "code",
   "execution_count": 7,
   "metadata": {
    "ExecuteTime": {
     "end_time": "2022-10-20T10:27:55.390067Z",
     "start_time": "2022-10-20T10:27:54.636380Z"
    },
    "pycharm": {
     "name": "#%%\n"
    }
   },
   "outputs": [],
   "source": [
    "morph_tagger = NewsMorphTagger(emb)\n",
    "syntax_parser = NewsSyntaxParser(emb)\n",
    "ner_tagger = NewsNERTagger(emb)\n",
    "names_extractor = NamesExtractor(morph_vocab)"
   ]
  },
  {
   "cell_type": "code",
   "execution_count": 1,
   "metadata": {
    "ExecuteTime": {
     "end_time": "2022-10-20T11:11:59.806354Z",
     "start_time": "2022-10-20T11:11:59.798697Z"
    }
   },
   "outputs": [],
   "source": [
    "text = \"\"\"В этом же домике жил известный доктор Пилюлькин, который лечил коротышек от всех болезней. Он всегда ходил в белом халате, а на голове носил белый колпак с кисточкой. Жил здесь также знаменитый механик Винтик со своим помощником Шпунтиком; жил Сахарин Сахариныч Сиропчик, который прославился тем, что очень любил газированную воду с сиропом. Он был очень вежливый. Ему нравилось, когда его называли по имени и отчеству, и не нравилось, когда кто-нибудь называл его просто Сиропчиком. Жил еще в этом доме охотник Пулька. У него была маленькая собачка Булька и еще было ружье, которое стреляло пробками. Жил художник Тюбик, музыкант Гусля и другие малыши: Торопыжка, Ворчун, Молчун, Пончик, Растеряйка, два брата -- Авоська и Небоська. Но самым известным среди них был малыш, по имени Незнайка. Его прозвали Незнайкой за то, что он ничего не знал. Этот Незнайка носил яркую голубую шляпу, желтые, канареечные, брюки и оранжевую рубашку с зеленым галстуком. Он вообще любил яркие краски. Нарядившись таким попугаем, Незнайка по целым дням слонялся по городу, сочинял разные небылицы и всем рассказывал. Кроме того, он постоянно обижал малышек. Поэтому малышки, завидев издали его оранжевую рубашку, сейчас же поворачивали в обратную сторону и прятались по домам. У Незнайки был друг, по имени Гунька, который жил на улице Маргариток. С Гунькой Незнайка мог болтать по целым часам. Они двадцать раз на день ссорились между собой и двадцать раз на день мирились.\"\"\"\n"
   ]
  },
  {
   "cell_type": "code",
   "execution_count": 8,
   "metadata": {
    "ExecuteTime": {
     "end_time": "2022-10-20T10:27:55.399480Z",
     "start_time": "2022-10-20T10:27:55.393068Z"
    }
   },
   "outputs": [],
   "source": [
    "doc = Doc(text)"
   ]
  },
  {
   "cell_type": "code",
   "execution_count": 9,
   "metadata": {
    "ExecuteTime": {
     "end_time": "2022-10-20T10:27:56.169095Z",
     "start_time": "2022-10-20T10:27:55.404318Z"
    }
   },
   "outputs": [],
   "source": [
    "doc.segment(segmenter)\n",
    "doc.tag_morph(morph_tagger)\n",
    "\n",
    "for token in doc.tokens:\n",
    "    token.lemmatize(morph_vocab)\n",
    "    \n",
    "doc.parse_syntax(syntax_parser)\n",
    "doc.tag_ner(ner_tagger)"
   ]
  },
  {
   "cell_type": "code",
   "execution_count": 10,
   "metadata": {
    "ExecuteTime": {
     "end_time": "2022-10-20T10:27:56.598912Z",
     "start_time": "2022-10-20T10:27:56.592431Z"
    }
   },
   "outputs": [
    {
     "name": "stdout",
     "output_type": "stream",
     "text": [
      "                   В ADP\n",
      "                этом DET|Case=Loc|Gender=Masc|Number=Sing\n",
      "                  же PART\n",
      "              домике NOUN|Animacy=Inan|Case=Loc|Gender=Masc|Number=Sing\n",
      "                 жил VERB|Aspect=Imp|Gender=Masc|Mood=Ind|Number=Sing|Tense=Past|VerbForm=Fin|Voice=Act\n",
      "           известный ADJ|Case=Nom|Degree=Pos|Gender=Masc|Number=Sing\n",
      "              доктор NOUN|Animacy=Anim|Case=Nom|Gender=Masc|Number=Sing\n",
      "           Пилюлькин PROPN|Animacy=Anim|Case=Nom|Gender=Masc|Number=Sing\n",
      "                   , PUNCT\n",
      "             который PRON|Case=Nom|Gender=Masc|Number=Sing\n",
      "               лечил VERB|Aspect=Imp|Gender=Masc|Mood=Ind|Number=Sing|Tense=Past|VerbForm=Fin|Voice=Act\n",
      "           коротышек NOUN|Animacy=Anim|Case=Acc|Gender=Masc|Number=Sing\n",
      "                  от ADP\n",
      "                всех DET|Case=Gen|Number=Plur\n",
      "            болезней NOUN|Animacy=Inan|Case=Gen|Gender=Fem|Number=Plur\n",
      "                   . PUNCT\n"
     ]
    }
   ],
   "source": [
    "doc.sents[0].morph.print()"
   ]
  },
  {
   "cell_type": "code",
   "execution_count": 16,
   "metadata": {
    "ExecuteTime": {
     "end_time": "2022-10-20T10:32:59.873687Z",
     "start_time": "2022-10-20T10:32:59.865732Z"
    }
   },
   "outputs": [
    {
     "name": "stdout",
     "output_type": "stream",
     "text": [
      "                 Жил          \n",
      "                 здесь        \n",
      "                 также        \n",
      "              ┌► знаменитый   amod\n",
      "  ┌►┌───────┌─└─ механик      nsubj\n",
      "┌─│ │     ┌─└──► Винтик       appos\n",
      "│ │ │     │ ┌──► со           case\n",
      "│ │ │     │ │ ┌► своим        det\n",
      "│ │ │     └►└─└─ помощником   nmod\n",
      "│ │ │       └──► Шпунтиком    appos\n",
      "│ │ │         ┌► ;            punct\n",
      "│ │ │ ┌────►┌─└─ жил          conj\n",
      "│ │ │ │   ┌─└►┌─ Сахарин      xcomp\n",
      "│ │ │ │   │   └► Сахариныч    flat:name\n",
      "│ │ │ │   └────► Сиропчик     flat:name\n",
      "│ │ │ │     ┌──► ,            punct\n",
      "│ │ │ │     │ ┌► который      nsubj\n",
      "│ │ └►│     └─└─ прославился  acl:relcl\n",
      "│ │   │ ┌───└──► тем          obl\n",
      "│ │   │ │ ┌────► ,            punct\n",
      "│ │   │ │ │ ┌──► что          mark\n",
      "│ │   │ │ │ │ ┌► очень        advmod\n",
      "│ └───└─└►└─└─└─ любил        acl\n",
      "│         │ └──► газированную obj\n",
      "│         └────► воду         obj\n",
      "│             ┌► с            case\n",
      "└────────────►└─ сиропом      nmod\n",
      "                 .            \n"
     ]
    }
   ],
   "source": [
    "doc.sents[2].syntax.print()"
   ]
  },
  {
   "cell_type": "code",
   "execution_count": 31,
   "metadata": {
    "ExecuteTime": {
     "end_time": "2022-10-20T10:48:22.890632Z",
     "start_time": "2022-10-20T10:48:22.884254Z"
    },
    "scrolled": true
   },
   "outputs": [],
   "source": [
    "s = doc.sents[0].syntax.tokens\n",
    "# s"
   ]
  },
  {
   "cell_type": "code",
   "execution_count": 35,
   "metadata": {
    "ExecuteTime": {
     "end_time": "2022-10-20T10:49:35.007094Z",
     "start_time": "2022-10-20T10:49:34.994813Z"
    }
   },
   "outputs": [
    {
     "name": "stdout",
     "output_type": "stream",
     "text": [
      "{'1_1': ('В', 'case', []), '1_2': ('этом', 'det', ['1_3']), '1_3': ('же', 'advmod', []), '1_4': ('домике', 'obl', ['1_1', '1_2']), '1_5': ('жил', 'root', ['1_4', '1_7', '1_16']), '1_6': ('известный', 'amod', []), '1_7': ('доктор', 'nsubj', ['1_6', '1_8', '1_11']), '1_8': ('Пилюлькин', 'appos', []), '1_9': (',', 'punct', []), '1_10': ('который', 'nsubj', []), '1_11': ('лечил', 'acl:relcl', ['1_9', '1_10', '1_12', '1_15']), '1_12': ('коротышек', 'obj', []), '1_13': ('от', 'case', []), '1_14': ('всех', 'det', []), '1_15': ('болезней', 'obl', ['1_13', '1_14']), '1_16': ('.', 'punct', [])}\n"
     ]
    }
   ],
   "source": [
    "G = nx.DiGraph()\n",
    "\n",
    "# for s in doc.sents:\n",
    "#     syn = s.syntax\n",
    "#     print(s.text)\n",
    "#     print(syn.tokens)\n",
    "tokens = doc.sents[0].syntax.tokens\n",
    "\n",
    "from natasha.syntax import token_deps\n",
    "\n",
    "for i in tokens:\n",
    "    if i.rel not in ['case', 'punct']:\n",
    "        G.add_node(i.id, text=i.text)\n",
    "        G.add_edge(i.id, i.head_id, t=i.rel)\n",
    "\n",
    "# nx.draw_planar(G, \n",
    "#         arrows=True, with_labels=True, font_weight='bold',\n",
    "#         labels={i: G.nodes[i].get('text') for i in G.nodes}\n",
    "# )\n",
    "# plt.show()\n",
    "\n",
    "# for nid in G.nodes:\n",
    "#     node = s[nid]\n",
    "#     print(s)/\n",
    "\n",
    "# @dataclass\n",
    "# class SentenceToken:\n",
    "#     token_id: str\n",
    "#     text: str\n",
    "    \n",
    "\n",
    "sent_graph = {i.id: (i.text, i.rel, []) for i in tokens}\n",
    "\n",
    "for i in tokens:\n",
    "    if i.head_id != '1_0':\n",
    "        sent_graph[i.head_id][2].append(i.id)\n",
    "\n",
    "print(sent_graph)"
   ]
  },
  {
   "cell_type": "code",
   "execution_count": 37,
   "metadata": {
    "ExecuteTime": {
     "end_time": "2022-10-17T10:50:29.314415Z",
     "start_time": "2022-10-17T10:50:29.303798Z"
    }
   },
   "outputs": [
    {
     "name": "stdout",
     "output_type": "stream",
     "text": [
      "В этом же домике жил известный доктор Пилюлькин, который лечил \n",
      "                                      PER──────                \n",
      "коротышек от всех болезней. Он всегда ходил в белом халате, а на \n",
      "голове носил белый колпак с кисточкой. Жил здесь также знаменитый \n",
      "механик Винтик со своим помощником Шпунтиком; жил Сахарин Сахариныч \n",
      "        PER───                     PER──────      PER───────────────\n",
      "Сиропчик, который прославился тем, что очень любил газированную воду с\n",
      "────────                                                              \n",
      " сиропом. Он был очень вежливый. Ему нравилось, когда его называли по \n",
      "имени и отчеству, и не нравилось, когда кто-нибудь называл его просто \n",
      "Сиропчиком. Жил еще в этом доме охотник Пулька. У него была маленькая \n",
      "PER───────                              PER───                        \n",
      "собачка Булька и еще было ружье, которое стреляло пробками. Жил \n",
      "        PER───                                                  \n",
      "художник Тюбик, музыкант Гусля и другие малыши: Торопыжка, Ворчун, \n",
      "         PER──           PER──                  PER──────  LOC───  \n",
      "Молчун, Пончик, Растеряйка, два брата -- Авоська и Небоська. Но самым \n",
      "LOC───  LOC───  PER───────                         PER─────           \n",
      "известным среди них был малыш, по имени Незнайка. Его прозвали \n",
      "                                        PER─────               \n",
      "Незнайкой за то, что он ничего не знал. Этот Незнайка носил яркую \n",
      "PER──────                                    PER─────             \n",
      "голубую шляпу, желтые, канареечные, брюки и оранжевую рубашку с \n",
      "зеленым галстуком. Он вообще любил яркие краски. Нарядившись таким \n",
      "попугаем, Незнайка по целым дням слонялся по городу, сочинял разные \n",
      "          PER─────                                                  \n",
      "небылицы и всем рассказывал. Кроме того, он постоянно обижал малышек. \n",
      "Поэтому малышки, завидев издали его оранжевую рубашку, сейчас же \n",
      "поворачивали в обратную сторону и прятались по домам. У Незнайки был \n",
      "                                                        PER─────     \n",
      "друг, по имени Гунька, который жил на улице Маргариток. С Гунькой \n",
      "               PER───                       LOC───────    PER─────\n",
      "Незнайка мог болтать по целым часам. Они двадцать раз на день \n",
      "────────                                                      \n",
      "ссорились между собой и двадцать раз на день мирились.\n"
     ]
    }
   ],
   "source": [
    "doc.ner.print()"
   ]
  },
  {
   "cell_type": "code",
   "execution_count": 10,
   "metadata": {
    "ExecuteTime": {
     "end_time": "2022-10-20T11:47:49.036564Z",
     "start_time": "2022-10-20T11:47:41.859931Z"
    },
    "scrolled": true
   },
   "outputs": [
    {
     "name": "stdout",
     "output_type": "stream",
     "text": [
      "Collecting russian_tagsets\n",
      "  Downloading russian-tagsets-0.6.tar.gz (23 kB)\n",
      "  Preparing metadata (setup.py) ... \u001b[?25ldone\n",
      "\u001b[?25hBuilding wheels for collected packages: russian-tagsets\n",
      "  Building wheel for russian-tagsets (setup.py) ... \u001b[?25ldone\n",
      "\u001b[?25h  Created wheel for russian-tagsets: filename=russian_tagsets-0.6-py3-none-any.whl size=24636 sha256=24c271c8c9fa26aa0c66586d743760d058ae52bcff808a1b09aa6b2888cc42a1\n",
      "  Stored in directory: /home/petr/.cache/pip/wheels/5e/b4/26/9c17a7cdcfc6b8cf43111312f3e7c6abb8e583599e37c422f8\n",
      "Successfully built russian-tagsets\n",
      "Installing collected packages: russian-tagsets\n",
      "Successfully installed russian-tagsets-0.6\n"
     ]
    }
   ],
   "source": [
    "# !pip install deeppavlov\n",
    "# !python -m deeppavlov install syntax_ru_syntagrus_bert\n",
    "!pip install russian_tagsets"
   ]
  },
  {
   "cell_type": "code",
   "execution_count": 12,
   "metadata": {
    "ExecuteTime": {
     "end_time": "2022-10-20T11:49:12.666083Z",
     "start_time": "2022-10-20T11:48:01.454505Z"
    },
    "scrolled": true
   },
   "outputs": [
    {
     "name": "stderr",
     "output_type": "stream",
     "text": [
      "2022-10-20 14:48:01.459 INFO in 'deeppavlov.core.common.file'['file'] at line 32: Interpreting 'ru_syntagrus_joint_parsing' as '/home/petr/.local/share/virtualenvs/scripts-SYm7cvvS/lib/python3.7/site-packages/deeppavlov/configs/syntax/ru_syntagrus_joint_parsing.json'\n",
      "2022-10-20 14:48:02.97 INFO in 'deeppavlov.core.data.simple_vocab'['simple_vocab'] at line 115: [loading vocabulary from /home/petr/.deeppavlov/models/morpho_ru_syntagrus/tag.dict]\n",
      "2022-10-20 14:48:23.17 INFO in 'deeppavlov.core.models.tf_model'['tf_model'] at line 51: [loading model from /home/petr/.deeppavlov/models/morpho_ru_syntagrus/model]\n"
     ]
    },
    {
     "name": "stdout",
     "output_type": "stream",
     "text": [
      "INFO:tensorflow:Restoring parameters from /home/petr/.deeppavlov/models/morpho_ru_syntagrus/model\n"
     ]
    },
    {
     "name": "stderr",
     "output_type": "stream",
     "text": [
      "2022-10-20 14:48:26.52 WARNING in 'deeppavlov.core.models.serializable'['serializable'] at line 52: No load path is set for UDPymorphyLemmatizer!\n",
      "2022-10-20 14:48:26.731 INFO in 'deeppavlov.core.data.simple_vocab'['simple_vocab'] at line 115: [loading vocabulary from /home/petr/.deeppavlov/models/syntax_ru_syntagrus/deps.dict]\n"
     ]
    },
    {
     "name": "stdout",
     "output_type": "stream",
     "text": [
      "WARNING:tensorflow:From /home/petr/.local/share/virtualenvs/scripts-SYm7cvvS/lib/python3.7/site-packages/deeppavlov/core/layers/tf_layers.py:161: LSTMCell.__init__ (from tensorflow.python.ops.rnn_cell_impl) is deprecated and will be removed in a future version.\n",
      "Instructions for updating:\n",
      "This class is equivalent as tf.keras.layers.LSTMCell, and will be replaced by that in Tensorflow 2.0.\n",
      "WARNING:tensorflow:From /home/petr/.local/share/virtualenvs/scripts-SYm7cvvS/lib/python3.7/site-packages/deeppavlov/core/layers/tf_layers.py:181: bidirectional_dynamic_rnn (from tensorflow.python.ops.rnn) is deprecated and will be removed in a future version.\n",
      "Instructions for updating:\n",
      "Please use `keras.layers.Bidirectional(keras.layers.RNN(cell))`, which is equivalent to this API\n",
      "WARNING:tensorflow:From /home/petr/.local/share/virtualenvs/scripts-SYm7cvvS/lib/python3.7/site-packages/tensorflow_core/python/ops/rnn.py:464: dynamic_rnn (from tensorflow.python.ops.rnn) is deprecated and will be removed in a future version.\n",
      "Instructions for updating:\n",
      "Please use `keras.layers.RNN(cell)`, which is equivalent to this API\n",
      "WARNING:tensorflow:From /home/petr/.local/share/virtualenvs/scripts-SYm7cvvS/lib/python3.7/site-packages/tensorflow_core/python/ops/rnn_cell_impl.py:958: Layer.add_variable (from tensorflow.python.keras.engine.base_layer) is deprecated and will be removed in a future version.\n",
      "Instructions for updating:\n",
      "Please use `layer.add_weight` method instead.\n",
      "WARNING:tensorflow:From /home/petr/.local/share/virtualenvs/scripts-SYm7cvvS/lib/python3.7/site-packages/tensorflow_core/python/ops/rnn_cell_impl.py:962: calling Zeros.__init__ (from tensorflow.python.ops.init_ops) with dtype is deprecated and will be removed in a future version.\n",
      "Instructions for updating:\n",
      "Call initializer instance with the dtype argument instead of passing it to the constructor\n",
      "WARNING:tensorflow:From /home/petr/.local/share/virtualenvs/scripts-SYm7cvvS/lib/python3.7/site-packages/deeppavlov/core/layers/tf_layers.py:185: The name tf.add_to_collection is deprecated. Please use tf.compat.v1.add_to_collection instead.\n",
      "\n"
     ]
    },
    {
     "name": "stderr",
     "output_type": "stream",
     "text": [
      "2022-10-20 14:48:53.750 INFO in 'deeppavlov.core.models.tf_model'['tf_model'] at line 51: [loading model from /home/petr/.deeppavlov/models/syntax_ru_syntagrus/model_joint]\n"
     ]
    },
    {
     "name": "stdout",
     "output_type": "stream",
     "text": [
      "INFO:tensorflow:Restoring parameters from /home/petr/.deeppavlov/models/syntax_ru_syntagrus/model_joint\n",
      "['1\\tВ\\tв\\tADP\\t_\\t_\\t4\\tcase\\t_\\t_\\n2\\tэтом\\tэтот\\tDET\\t_\\tCase=Loc|Gender=Masc|Number=Sing\\t4\\tdet\\t_\\t_\\n3\\tже\\tже\\tPART\\t_\\t_\\t2\\tadvmod\\t_\\t_\\n4\\tдомике\\tдомик\\tNOUN\\t_\\tAnimacy=Inan|Case=Loc|Gender=Masc|Number=Sing\\t5\\tobl\\t_\\t_\\n5\\tжил\\tжить\\tVERB\\t_\\tAspect=Imp|Gender=Masc|Mood=Ind|Number=Sing|Tense=Past|VerbForm=Fin|Voice=Act\\t0\\troot\\t_\\t_\\n6\\tизвестный\\tизвестный\\tADJ\\t_\\tCase=Nom|Degree=Pos|Gender=Masc|Number=Sing\\t7\\tamod\\t_\\t_\\n7\\tдоктор\\tдоктор\\tNOUN\\t_\\tAnimacy=Anim|Case=Nom|Gender=Masc|Number=Sing\\t5\\tnsubj\\t_\\t_\\n8\\tПилюлькин\\tпилюлькин\\tPROPN\\t_\\tAnimacy=Anim|Case=Nom|Gender=Masc|Number=Sing\\t7\\tappos\\t_\\t_\\n9\\t,\\t,\\tPUNCT\\t_\\t_\\t11\\tpunct\\t_\\t_\\n10\\tкоторый\\tкоторый\\tPRON\\t_\\tCase=Nom\\t11\\tnsubj\\t_\\t_\\n11\\tлечил\\tлечить\\tVERB\\t_\\tAspect=Imp|Gender=Masc|Mood=Ind|Number=Sing|Tense=Past|VerbForm=Fin|Voice=Act\\t7\\tacl:relcl\\t_\\t_\\n12\\tкоротышек\\tкоротышка\\tNOUN\\t_\\tAnimacy=Anim|Case=Acc|Gender=Masc|Number=Plur\\t11\\tobj\\t_\\t_\\n13\\tот\\tот\\tADP\\t_\\t_\\t15\\tcase\\t_\\t_\\n14\\tвсех\\tвесь\\tDET\\t_\\tCase=Gen|Number=Plur\\t15\\tdet\\t_\\t_\\n15\\tболезней\\tболезнь\\tNOUN\\t_\\tAnimacy=Inan|Case=Gen|Gender=Fem|Number=Plur\\t11\\tobl\\t_\\t_', '1\\tОн\\tон\\tPRON\\t_\\tCase=Nom|Gender=Masc|Number=Sing|Person=3\\t3\\tnsubj\\t_\\t_\\n2\\tвсегда\\tвсегда\\tADV\\t_\\tDegree=Pos\\t3\\tadvmod\\t_\\t_\\n3\\tходил\\tходить\\tVERB\\t_\\tAspect=Imp|Gender=Masc|Mood=Ind|Number=Sing|Tense=Past|VerbForm=Fin|Voice=Act\\t0\\troot\\t_\\t_\\n4\\tв\\tв\\tADP\\t_\\t_\\t6\\tcase\\t_\\t_\\n5\\tбелом\\tбелый\\tADJ\\t_\\tCase=Loc|Degree=Pos|Gender=Masc|Number=Sing\\t6\\tamod\\t_\\t_\\n6\\tхалате\\tхалат\\tNOUN\\t_\\tAnimacy=Inan|Case=Loc|Gender=Masc|Number=Sing\\t3\\tobl\\t_\\t_\\n7\\t,\\t,\\tPUNCT\\t_\\t_\\t11\\tpunct\\t_\\t_\\n8\\tа\\tа\\tCCONJ\\t_\\t_\\t11\\tcc\\t_\\t_\\n9\\tна\\tна\\tADP\\t_\\t_\\t10\\tcase\\t_\\t_\\n10\\tголове\\tголова\\tNOUN\\t_\\tAnimacy=Inan|Case=Loc|Gender=Fem|Number=Sing\\t11\\tobl\\t_\\t_\\n11\\tносил\\tносить\\tVERB\\t_\\tAspect=Imp|Gender=Masc|Mood=Ind|Number=Sing|Tense=Past|VerbForm=Fin|Voice=Act\\t3\\tconj\\t_\\t_\\n12\\tбелый\\tбелый\\tADJ\\t_\\tAnimacy=Inan|Case=Acc|Degree=Pos|Gender=Masc|Number=Sing\\t13\\tamod\\t_\\t_\\n13\\tколпак\\tколпак\\tNOUN\\t_\\tAnimacy=Inan|Case=Acc|Gender=Masc|Number=Sing\\t11\\tobj\\t_\\t_\\n14\\tс\\tс\\tADP\\t_\\t_\\t15\\tcase\\t_\\t_\\n15\\tкисточкой\\tкисточка\\tNOUN\\t_\\tAnimacy=Inan|Case=Ins|Gender=Fem|Number=Sing\\t13\\tnmod\\t_\\t_', '1\\tЖил\\tжить\\tVERB\\t_\\tAspect=Imp|Gender=Masc|Mood=Ind|Number=Sing|Tense=Past|VerbForm=Fin|Voice=Act\\t0\\troot\\t_\\t_\\n2\\tздесь\\tздесь\\tADV\\t_\\tDegree=Pos\\t1\\tadvmod\\t_\\t_\\n3\\tтакже\\tтакже\\tADV\\t_\\tDegree=Pos\\t4\\tobl\\t_\\t_\\n4\\tзнаменитый\\tзнаменитый\\tADJ\\t_\\tCase=Nom|Degree=Pos|Gender=Masc|Number=Sing\\t5\\tamod\\t_\\t_\\n5\\tмеханик\\tмеханик\\tNOUN\\t_\\tAnimacy=Anim|Case=Nom|Gender=Masc|Number=Sing\\t1\\tnsubj\\t_\\t_\\n6\\tВинтик\\tвинтик\\tPROPN\\t_\\tAnimacy=Anim|Case=Nom|Gender=Masc|Number=Sing\\t5\\tappos\\t_\\t_\\n7\\tсо\\tс\\tADP\\t_\\t_\\t9\\tcase\\t_\\t_\\n8\\tсвоим\\tсвой\\tDET\\t_\\tCase=Ins|Gender=Masc|Number=Sing\\t9\\tdet\\t_\\t_\\n9\\tпомощником\\tпомощник\\tNOUN\\t_\\tAnimacy=Anim|Case=Ins|Gender=Masc|Number=Sing\\t5\\tnmod\\t_\\t_\\n10\\tШпунтиком\\tшпунтик\\tPROPN\\t_\\tAnimacy=Anim|Case=Ins|Gender=Masc|Number=Sing\\t9\\tappos\\t_\\t_\\n11\\t;\\t;\\tPUNCT\\t_\\t_\\t1\\tpunct\\t_\\t_\\n12\\tжил\\tжить\\tVERB\\t_\\tAspect=Imp|Gender=Masc|Mood=Ind|Number=Sing|Tense=Past|VerbForm=Fin|Voice=Act\\t1\\tconj\\t_\\t_\\n13\\tСахарин\\tсахарин\\tPROPN\\t_\\tAnimacy=Anim|Case=Nom|Gender=Masc|Number=Sing\\t12\\tnsubj\\t_\\t_\\n14\\tСахариныч\\tсахаринович\\tPROPN\\t_\\tAnimacy=Anim|Case=Nom|Gender=Masc|Number=Sing\\t13\\tflat:name\\t_\\t_\\n15\\tСиропчик\\tсиропчик\\tPROPN\\t_\\tAnimacy=Anim|Case=Nom|Gender=Masc|Number=Sing\\t14\\tflat:name\\t_\\t_\\n16\\t,\\t,\\tPUNCT\\t_\\t_\\t18\\tpunct\\t_\\t_\\n17\\tкоторый\\tкоторый\\tPRON\\t_\\tCase=Nom\\t18\\tnsubj\\t_\\t_\\n18\\tпрославился\\tпрославиться\\tVERB\\t_\\tAspect=Perf|Gender=Masc|Mood=Ind|Number=Sing|Tense=Past|VerbForm=Fin|Voice=Mid\\t13\\tacl:relcl\\t_\\t_\\n19\\tтем\\tтот\\tPRON\\t_\\tAnimacy=Inan|Case=Ins|Gender=Neut|Number=Sing\\t18\\tobl\\t_\\t_\\n20\\t,\\t,\\tPUNCT\\t_\\t_\\t23\\tpunct\\t_\\t_\\n21\\tчто\\tчто\\tSCONJ\\t_\\t_\\t23\\tmark\\t_\\t_\\n22\\tочень\\tочень\\tADV\\t_\\tDegree=Pos\\t23\\tadvmod\\t_\\t_\\n23\\tлюбил\\tлюбить\\tVERB\\t_\\tAspect=Imp|Gender=Masc|Mood=Ind|Number=Sing|Tense=Past|VerbForm=Fin|Voice=Act\\t19\\tacl\\t_\\t_\\n24\\tгазированную\\tгазировать\\tVERB\\t_\\tAspect=Perf|Case=Acc|Gender=Fem|Number=Sing|Tense=Past|VerbForm=Part|Voice=Pass\\t25\\tamod\\t_\\t_\\n25\\tводу\\tвода\\tNOUN\\t_\\tAnimacy=Inan|Case=Acc|Gender=Fem|Number=Sing\\t23\\tobj\\t_\\t_\\n26\\tс\\tс\\tADP\\t_\\t_\\t27\\tcase\\t_\\t_\\n27\\tсиропом\\tсироп\\tNOUN\\t_\\tAnimacy=Inan|Case=Ins|Gender=Masc|Number=Sing\\t25\\tnmod\\t_\\t_', '1\\tОн\\tон\\tPRON\\t_\\tCase=Nom|Gender=Masc|Number=Sing|Person=3\\t4\\tnsubj\\t_\\t_\\n2\\tбыл\\tбыть\\tAUX\\t_\\tAspect=Imp|Gender=Masc|Mood=Ind|Number=Sing|Tense=Past|VerbForm=Fin|Voice=Act\\t4\\tcop\\t_\\t_\\n3\\tочень\\tочень\\tADV\\t_\\tDegree=Pos\\t4\\tobl\\t_\\t_\\n4\\tвежливый\\tвежливый\\tADJ\\t_\\tCase=Nom|Degree=Pos|Gender=Masc|Number=Sing\\t0\\troot\\t_\\t_', '1\\tЕму\\tон\\tPRON\\t_\\tCase=Dat|Gender=Masc|Number=Sing|Person=3\\t2\\tiobj\\t_\\t_\\n2\\tнравилось\\tнравиться\\tVERB\\t_\\tAspect=Imp|Gender=Neut|Mood=Ind|Number=Sing|Tense=Past|VerbForm=Fin|Voice=Mid\\t0\\troot\\t_\\t_\\n3\\t,\\t,\\tPUNCT\\t_\\t_\\t6\\tpunct\\t_\\t_\\n4\\tкогда\\tкогда\\tSCONJ\\t_\\t_\\t6\\tmark\\t_\\t_\\n5\\tего\\tон\\tPRON\\t_\\tCase=Acc|Gender=Masc|Number=Sing|Person=3\\t6\\tobj\\t_\\t_\\n6\\tназывали\\tназывать\\tVERB\\t_\\tAspect=Imp|Mood=Ind|Number=Plur|Tense=Past|VerbForm=Fin|Voice=Act\\t2\\tcsubj\\t_\\t_\\n7\\tпо\\tпо\\tADP\\t_\\t_\\t8\\tcase\\t_\\t_\\n8\\tимени\\tимя\\tNOUN\\t_\\tAnimacy=Inan|Case=Dat|Gender=Neut|Number=Sing\\t6\\tobl\\t_\\t_\\n9\\tи\\tи\\tCCONJ\\t_\\t_\\t10\\tcc\\t_\\t_\\n10\\tотчеству\\tотчество\\tNOUN\\t_\\tAnimacy=Inan|Case=Dat|Gender=Neut|Number=Sing\\t8\\tconj\\t_\\t_\\n11\\t,\\t,\\tPUNCT\\t_\\t_\\t14\\tpunct\\t_\\t_\\n12\\tи\\tи\\tCCONJ\\t_\\t_\\t14\\tcc\\t_\\t_\\n13\\tне\\tне\\tPART\\t_\\t_\\t14\\tadvmod\\t_\\t_\\n14\\tнравилось\\tнравиться\\tVERB\\t_\\tAspect=Imp|Gender=Neut|Mood=Ind|Number=Sing|Tense=Past|VerbForm=Fin|Voice=Mid\\t2\\tconj\\t_\\t_\\n15\\t,\\t,\\tPUNCT\\t_\\t_\\t18\\tpunct\\t_\\t_\\n16\\tкогда\\tкогда\\tSCONJ\\t_\\t_\\t18\\tmark\\t_\\t_\\n17\\tкто-нибудь\\tкто-нибудь\\tPRON\\t_\\tCase=Nom\\t18\\tnsubj\\t_\\t_\\n18\\tназывал\\tназывать\\tVERB\\t_\\tAspect=Imp|Gender=Masc|Mood=Ind|Number=Sing|Tense=Past|VerbForm=Fin|Voice=Act\\t14\\tccomp\\t_\\t_\\n19\\tего\\tон\\tPRON\\t_\\tCase=Acc|Gender=Masc|Number=Sing|Person=3\\t18\\tobj\\t_\\t_\\n20\\tпросто\\tпросто\\tPART\\t_\\t_\\t21\\tadvmod\\t_\\t_\\n21\\tСиропчиком\\tсиропчик\\tPROPN\\t_\\tAnimacy=Anim|Case=Ins|Gender=Masc|Number=Sing\\t18\\tobl\\t_\\t_', '1\\tЖил\\tжить\\tVERB\\t_\\tAspect=Imp|Gender=Masc|Mood=Ind|Number=Sing|Tense=Past|VerbForm=Fin|Voice=Act\\t0\\troot\\t_\\t_\\n2\\tеще\\tещё\\tADV\\t_\\tDegree=Pos\\t5\\tobl\\t_\\t_\\n3\\tв\\tв\\tADP\\t_\\t_\\t5\\tcase\\t_\\t_\\n4\\tэтом\\tэтот\\tDET\\t_\\tCase=Loc|Gender=Masc|Number=Sing\\t5\\tdet\\t_\\t_\\n5\\tдоме\\tдом\\tNOUN\\t_\\tAnimacy=Inan|Case=Loc|Gender=Masc|Number=Sing\\t1\\tobl\\t_\\t_\\n6\\tохотник\\tохотник\\tNOUN\\t_\\tAnimacy=Anim|Case=Nom|Gender=Masc|Number=Sing\\t1\\tnsubj\\t_\\t_\\n7\\tПулька\\tпулька\\tPROPN\\t_\\tAnimacy=Anim|Case=Nom|Gender=Masc|Number=Sing\\t6\\tappos\\t_\\t_', '1\\tУ\\tу\\tADP\\t_\\t_\\t2\\tcase\\t_\\t_\\n2\\tнего\\tон\\tPRON\\t_\\tCase=Gen|Gender=Masc|Number=Sing|Person=3\\t3\\tobl\\t_\\t_\\n3\\tбыла\\tбыть\\tVERB\\t_\\tAspect=Imp|Gender=Fem|Mood=Ind|Number=Sing|Tense=Past|VerbForm=Fin|Voice=Act\\t0\\troot\\t_\\t_\\n4\\tмаленькая\\tмаленький\\tADJ\\t_\\tCase=Nom|Degree=Pos|Gender=Fem|Number=Sing\\t5\\tamod\\t_\\t_\\n5\\tсобачка\\tсобачка\\tNOUN\\t_\\tAnimacy=Anim|Case=Nom|Gender=Fem|Number=Sing\\t3\\tnsubj\\t_\\t_\\n6\\tБулька\\tбулька\\tPROPN\\t_\\tAnimacy=Anim|Case=Nom|Gender=Fem|Number=Sing\\t5\\tappos\\t_\\t_\\n7\\tи\\tи\\tCCONJ\\t_\\t_\\t9\\tcc\\t_\\t_\\n8\\tеще\\tещё\\tADV\\t_\\tDegree=Pos\\t9\\tadvmod\\t_\\t_\\n9\\tбыло\\tбыть\\tVERB\\t_\\tAspect=Imp|Gender=Neut|Mood=Ind|Number=Sing|Tense=Past|VerbForm=Fin|Voice=Act\\t3\\tconj\\t_\\t_\\n10\\tружье\\tружьё\\tNOUN\\t_\\tAnimacy=Inan|Case=Nom|Gender=Neut|Number=Sing\\t9\\tnsubj\\t_\\t_\\n11\\t,\\t,\\tPUNCT\\t_\\t_\\t13\\tpunct\\t_\\t_\\n12\\tкоторое\\tкоторый\\tPRON\\t_\\tCase=Nom\\t13\\tnsubj\\t_\\t_\\n13\\tстреляло\\tстрелять\\tVERB\\t_\\tAspect=Imp|Gender=Neut|Mood=Ind|Number=Sing|Tense=Past|VerbForm=Fin|Voice=Act\\t10\\tacl:relcl\\t_\\t_\\n14\\tпробками\\tпробка\\tNOUN\\t_\\tAnimacy=Inan|Case=Ins|Gender=Fem|Number=Plur\\t13\\tobl\\t_\\t_', '1\\tЖил\\tжить\\tVERB\\t_\\tAspect=Imp|Gender=Masc|Mood=Ind|Number=Sing|Tense=Past|VerbForm=Fin|Voice=Act\\t0\\troot\\t_\\t_\\n2\\tхудожник\\tхудожник\\tNOUN\\t_\\tAnimacy=Anim|Case=Nom|Gender=Masc|Number=Sing\\t1\\tnsubj\\t_\\t_\\n3\\tТюбик\\tтюбик\\tPROPN\\t_\\tAnimacy=Anim|Case=Nom|Gender=Masc|Number=Sing\\t2\\tappos\\t_\\t_\\n4\\t,\\t,\\tPUNCT\\t_\\t_\\t5\\tpunct\\t_\\t_\\n5\\tмузыкант\\tмузыкант\\tNOUN\\t_\\tAnimacy=Anim|Case=Nom|Gender=Masc|Number=Sing\\t2\\tconj\\t_\\t_\\n6\\tГусля\\tгуслить\\tPROPN\\t_\\tAnimacy=Anim|Case=Nom|Gender=Masc|Number=Sing\\t5\\tappos\\t_\\t_\\n7\\tи\\tи\\tCCONJ\\t_\\t_\\t9\\tcc\\t_\\t_\\n8\\tдругие\\tдругой\\tADJ\\t_\\tCase=Nom|Degree=Pos|Number=Plur\\t9\\tamod\\t_\\t_\\n9\\tмалыши\\tмалыш\\tNOUN\\t_\\tAnimacy=Anim|Case=Nom|Gender=Masc|Number=Plur\\t2\\tconj\\t_\\t_\\n10\\t:\\t:\\tPUNCT\\t_\\t_\\t9\\tpunct\\t_\\t_\\n11\\tТоропыжка\\tторопыжка\\tPROPN\\t_\\tAnimacy=Anim|Case=Nom|Gender=Masc|Number=Sing\\t9\\tparataxis\\t_\\t_\\n12\\t,\\t,\\tPUNCT\\t_\\t_\\t13\\tpunct\\t_\\t_\\n13\\tВорчун\\tворчун\\tPROPN\\t_\\tAnimacy=Anim|Case=Nom|Gender=Masc|Number=Sing\\t11\\tconj\\t_\\t_\\n14\\t,\\t,\\tPUNCT\\t_\\t_\\t15\\tpunct\\t_\\t_\\n15\\tМолчун\\tмолчун\\tPROPN\\t_\\tAnimacy=Anim|Case=Nom|Gender=Masc|Number=Sing\\t11\\tconj\\t_\\t_\\n16\\t,\\t,\\tPUNCT\\t_\\t_\\t17\\tpunct\\t_\\t_\\n17\\tПончик\\tпончик\\tPROPN\\t_\\tAnimacy=Anim|Case=Nom|Gender=Masc|Number=Sing\\t11\\tconj\\t_\\t_\\n18\\t,\\t,\\tPUNCT\\t_\\t_\\t19\\tpunct\\t_\\t_\\n19\\tРастеряйка\\tрастеряйка\\tPROPN\\t_\\tAnimacy=Anim|Case=Nom|Gender=Masc|Number=Sing\\t11\\tconj\\t_\\t_\\n20\\t,\\t,\\tPUNCT\\t_\\t_\\t22\\tpunct\\t_\\t_\\n21\\tдва\\tдва\\tNUM\\t_\\tCase=Nom|Gender=Masc\\t22\\tnummod:gov\\t_\\t_\\n22\\tбрата\\tбрат\\tNOUN\\t_\\tAnimacy=Anim|Case=Gen|Gender=Masc|Number=Sing\\t11\\tconj\\t_\\t_\\n23\\t--\\t--\\tPUNCT\\t_\\t_\\t24\\tpunct\\t_\\t_\\n24\\tАвоська\\tавоська\\tPROPN\\t_\\tAnimacy=Anim|Case=Nom|Gender=Masc|Number=Sing\\t22\\tparataxis\\t_\\t_\\n25\\tи\\tи\\tCCONJ\\t_\\t_\\t26\\tcc\\t_\\t_\\n26\\tНебоська\\tнебоська\\tPROPN\\t_\\tAnimacy=Anim|Case=Nom|Gender=Fem|Number=Sing\\t24\\tconj\\t_\\t_', '1\\tНо\\tно\\tCCONJ\\t_\\t_\\t3\\tcc\\t_\\t_\\n2\\tсамым\\tсамый\\tADJ\\t_\\tCase=Ins|Degree=Pos|Gender=Masc|Number=Sing\\t3\\tamod\\t_\\t_\\n3\\tизвестным\\tизвестный\\tADJ\\t_\\tCase=Ins|Degree=Pos|Gender=Masc|Number=Sing\\t0\\troot\\t_\\t_\\n4\\tсреди\\tсреди\\tADP\\t_\\t_\\t5\\tcase\\t_\\t_\\n5\\tних\\tони\\tPRON\\t_\\tCase=Gen|Number=Plur|Person=3\\t3\\tobl\\t_\\t_\\n6\\tбыл\\tбыть\\tAUX\\t_\\tAspect=Imp|Gender=Masc|Mood=Ind|Number=Sing|Tense=Past|VerbForm=Fin|Voice=Act\\t3\\tcop\\t_\\t_\\n7\\tмалыш\\tмалыш\\tNOUN\\t_\\tAnimacy=Anim|Case=Nom|Gender=Masc|Number=Sing\\t3\\tnsubj\\t_\\t_\\n8\\t,\\t,\\tPUNCT\\t_\\t_\\t10\\tpunct\\t_\\t_\\n9\\tпо\\tпо\\tADP\\t_\\t_\\t10\\tcase\\t_\\t_\\n10\\tимени\\tимя\\tNOUN\\t_\\tAnimacy=Inan|Case=Dat|Gender=Neut|Number=Sing\\t7\\tnmod\\t_\\t_\\n11\\tНезнайка\\tнезнайка\\tPROPN\\t_\\tAnimacy=Anim|Case=Nom|Gender=Masc|Number=Sing\\t10\\tnmod\\t_\\t_', '1\\tЕго\\tон\\tPRON\\t_\\tCase=Acc|Gender=Masc|Number=Sing|Person=3\\t2\\tobj\\t_\\t_\\n2\\tпрозвали\\tпрозвать\\tVERB\\t_\\tAspect=Perf|Mood=Ind|Number=Plur|Tense=Past|VerbForm=Fin|Voice=Act\\t0\\troot\\t_\\t_\\n3\\tНезнайкой\\tнезнайка\\tNOUN\\t_\\tAnimacy=Anim|Case=Ins|Gender=Masc|Number=Sing\\t2\\tobl\\t_\\t_\\n4\\tза\\tза\\tADP\\t_\\t_\\t5\\tcase\\t_\\t_\\n5\\tто\\tтот\\tPRON\\t_\\tAnimacy=Inan|Case=Acc|Gender=Neut|Number=Sing\\t2\\tobl\\t_\\t_\\n6\\t,\\t,\\tPUNCT\\t_\\t_\\t11\\tpunct\\t_\\t_\\n7\\tчто\\tчто\\tSCONJ\\t_\\t_\\t11\\tmark\\t_\\t_\\n8\\tон\\tон\\tPRON\\t_\\tCase=Nom|Gender=Masc|Number=Sing|Person=3\\t11\\tnsubj\\t_\\t_\\n9\\tничего\\tничто\\tPRON\\t_\\tCase=Gen\\t11\\tobl\\t_\\t_\\n10\\tне\\tне\\tPART\\t_\\t_\\t11\\tadvmod\\t_\\t_\\n11\\tзнал\\tзнать\\tVERB\\t_\\tAspect=Imp|Gender=Masc|Mood=Ind|Number=Sing|Tense=Past|VerbForm=Fin|Voice=Act\\t5\\tacl\\t_\\t_', '1\\tЭтот\\tэтот\\tDET\\t_\\tCase=Nom|Gender=Masc|Number=Sing\\t2\\tdet\\t_\\t_\\n2\\tНезнайка\\tнезнайка\\tPROPN\\t_\\tAnimacy=Anim|Case=Nom|Gender=Masc|Number=Sing\\t3\\tnsubj\\t_\\t_\\n3\\tносил\\tносить\\tVERB\\t_\\tAspect=Imp|Gender=Masc|Mood=Ind|Number=Sing|Tense=Past|VerbForm=Fin|Voice=Act\\t0\\troot\\t_\\t_\\n4\\tяркую\\tяркий\\tADJ\\t_\\tCase=Acc|Degree=Pos|Gender=Fem|Number=Sing\\t6\\tamod\\t_\\t_\\n5\\tголубую\\tголубой\\tADJ\\t_\\tCase=Acc|Degree=Pos|Gender=Fem|Number=Sing\\t6\\tamod\\t_\\t_\\n6\\tшляпу\\tшляпа\\tNOUN\\t_\\tAnimacy=Inan|Case=Acc|Gender=Fem|Number=Sing\\t3\\tobj\\t_\\t_\\n7\\t,\\t,\\tPUNCT\\t_\\t_\\t12\\tpunct\\t_\\t_\\n8\\tжелтые\\tжёлтый\\tADJ\\t_\\tAnimacy=Inan|Case=Acc|Degree=Pos|Number=Plur\\t12\\tamod\\t_\\t_\\n9\\t,\\t,\\tPUNCT\\t_\\t_\\t10\\tpunct\\t_\\t_\\n10\\tканареечные\\tканареечный\\tADJ\\t_\\tAnimacy=Inan|Case=Acc|Degree=Pos|Number=Plur\\t8\\tconj\\t_\\t_\\n11\\t,\\t,\\tPUNCT\\t_\\t_\\t12\\tpunct\\t_\\t_\\n12\\tбрюки\\tбрюки\\tNOUN\\t_\\tAnimacy=Inan|Case=Acc|Gender=Fem|Number=Plur\\t6\\tconj\\t_\\t_\\n13\\tи\\tи\\tCCONJ\\t_\\t_\\t15\\tcc\\t_\\t_\\n14\\tоранжевую\\tоранжевый\\tADJ\\t_\\tCase=Acc|Degree=Pos|Gender=Fem|Number=Sing\\t15\\tamod\\t_\\t_\\n15\\tрубашку\\tрубашка\\tNOUN\\t_\\tAnimacy=Inan|Case=Acc|Gender=Fem|Number=Sing\\t6\\tconj\\t_\\t_\\n16\\tс\\tс\\tADP\\t_\\t_\\t18\\tcase\\t_\\t_\\n17\\tзеленым\\tзелёный\\tADJ\\t_\\tCase=Ins|Degree=Pos|Gender=Masc|Number=Sing\\t18\\tamod\\t_\\t_\\n18\\tгалстуком\\tгалстук\\tNOUN\\t_\\tAnimacy=Inan|Case=Ins|Gender=Masc|Number=Sing\\t15\\tnmod\\t_\\t_', '1\\tОн\\tон\\tPRON\\t_\\tCase=Nom|Gender=Masc|Number=Sing|Person=3\\t3\\tnsubj\\t_\\t_\\n2\\tвообще\\tвообще\\tADV\\t_\\tDegree=Pos\\t3\\tadvmod\\t_\\t_\\n3\\tлюбил\\tлюбить\\tVERB\\t_\\tAspect=Imp|Gender=Masc|Mood=Ind|Number=Sing|Tense=Past|VerbForm=Fin|Voice=Act\\t0\\troot\\t_\\t_\\n4\\tяркие\\tяркий\\tADJ\\t_\\tAnimacy=Inan|Case=Acc|Degree=Pos|Number=Plur\\t5\\tamod\\t_\\t_\\n5\\tкраски\\tкраска\\tNOUN\\t_\\tAnimacy=Inan|Case=Acc|Gender=Fem|Number=Plur\\t3\\tobj\\t_\\t_', '1\\tНарядившись\\tнарядиться\\tVERB\\t_\\tAspect=Perf|Tense=Past|VerbForm=Conv|Voice=Mid\\t9\\tadvcl\\t_\\t_\\n2\\tтаким\\tтакой\\tDET\\t_\\tCase=Ins|Gender=Masc|Number=Sing\\t3\\tdet\\t_\\t_\\n3\\tпопугаем\\tпопугай\\tNOUN\\t_\\tAnimacy=Anim|Case=Ins|Gender=Masc|Number=Sing\\t1\\tobl\\t_\\t_\\n4\\t,\\t,\\tPUNCT\\t_\\t_\\t1\\tpunct\\t_\\t_\\n5\\tНезнайка\\tнезнайка\\tPROPN\\t_\\tAnimacy=Anim|Case=Nom|Gender=Masc|Number=Sing\\t9\\tnsubj\\t_\\t_\\n6\\tпо\\tпо\\tADP\\t_\\t_\\t8\\tcase\\t_\\t_\\n7\\tцелым\\tцелый\\tADJ\\t_\\tCase=Dat|Degree=Pos|Number=Plur\\t8\\tamod\\t_\\t_\\n8\\tдням\\tдень\\tNOUN\\t_\\tAnimacy=Inan|Case=Dat|Gender=Masc|Number=Plur\\t9\\tobl\\t_\\t_\\n9\\tслонялся\\tслоняться\\tVERB\\t_\\tAspect=Imp|Gender=Masc|Mood=Ind|Number=Sing|Tense=Past|VerbForm=Fin|Voice=Mid\\t0\\troot\\t_\\t_\\n10\\tпо\\tпо\\tADP\\t_\\t_\\t11\\tcase\\t_\\t_\\n11\\tгороду\\tгород\\tNOUN\\t_\\tAnimacy=Inan|Case=Dat|Gender=Masc|Number=Sing\\t9\\tobl\\t_\\t_\\n12\\t,\\t,\\tPUNCT\\t_\\t_\\t13\\tpunct\\t_\\t_\\n13\\tсочинял\\tсочинять\\tVERB\\t_\\tAspect=Imp|Gender=Masc|Mood=Ind|Number=Sing|Tense=Past|VerbForm=Fin|Voice=Act\\t9\\tconj\\t_\\t_\\n14\\tразные\\tразный\\tADJ\\t_\\tAnimacy=Inan|Case=Acc|Degree=Pos|Number=Plur\\t15\\tamod\\t_\\t_\\n15\\tнебылицы\\tнебылица\\tNOUN\\t_\\tAnimacy=Inan|Case=Acc|Gender=Fem|Number=Plur\\t13\\tobj\\t_\\t_\\n16\\tи\\tи\\tCCONJ\\t_\\t_\\t18\\tcc\\t_\\t_\\n17\\tвсем\\tвесь\\tPRON\\t_\\tAnimacy=Anim|Case=Dat|Number=Plur\\t18\\tiobj\\t_\\t_\\n18\\tрассказывал\\tрассказывать\\tVERB\\t_\\tAspect=Imp|Gender=Masc|Mood=Ind|Number=Sing|Tense=Past|VerbForm=Fin|Voice=Act\\t9\\tconj\\t_\\t_', '1\\tКроме\\tкроме\\tADP\\t_\\t_\\t2\\tcase\\t_\\t_\\n2\\tтого\\tтот\\tPRON\\t_\\tAnimacy=Inan|Case=Gen|Gender=Neut|Number=Sing\\t6\\tparataxis\\t_\\t_\\n3\\t,\\t,\\tPUNCT\\t_\\t_\\t2\\tpunct\\t_\\t_\\n4\\tон\\tон\\tPRON\\t_\\tCase=Nom|Gender=Masc|Number=Sing|Person=3\\t6\\tnsubj\\t_\\t_\\n5\\tпостоянно\\tпостоянно\\tADV\\t_\\tDegree=Pos\\t6\\tadvmod\\t_\\t_\\n6\\tобижал\\tобижать\\tVERB\\t_\\tAspect=Imp|Gender=Masc|Mood=Ind|Number=Sing|Tense=Past|VerbForm=Fin|Voice=Act\\t0\\troot\\t_\\t_\\n7\\tмалышек\\tмалышка\\tNOUN\\t_\\tAnimacy=Anim|Case=Acc|Gender=Fem|Number=Plur\\t6\\tobj\\t_\\t_', '1\\tПоэтому\\tпоэтому\\tADV\\t_\\tDegree=Pos\\t12\\tadvmod\\t_\\t_\\n2\\tмалышки\\tмалышка\\tNOUN\\t_\\tAnimacy=Anim|Case=Nom|Gender=Fem|Number=Plur\\t12\\tnsubj\\t_\\t_\\n3\\t,\\t,\\tPUNCT\\t_\\t_\\t2\\tpunct\\t_\\t_\\n4\\tзавидев\\tзавидеть\\tVERB\\t_\\tAspect=Perf|Tense=Past|VerbForm=Conv|Voice=Act\\t12\\tadvcl\\t_\\t_\\n5\\tиздали\\tиздали\\tADV\\t_\\tDegree=Pos\\t4\\tadvmod\\t_\\t_\\n6\\tего\\tего\\tDET\\t_\\t_\\t8\\tdet\\t_\\t_\\n7\\tоранжевую\\tоранжевый\\tADJ\\t_\\tCase=Acc|Degree=Pos|Gender=Fem|Number=Sing\\t8\\tamod\\t_\\t_\\n8\\tрубашку\\tрубашка\\tNOUN\\t_\\tAnimacy=Inan|Case=Acc|Gender=Fem|Number=Sing\\t4\\tobj\\t_\\t_\\n9\\t,\\t,\\tPUNCT\\t_\\t_\\t4\\tpunct\\t_\\t_\\n10\\tсейчас\\tсейчас\\tADV\\t_\\tDegree=Pos\\t12\\tadvmod\\t_\\t_\\n11\\tже\\tже\\tPART\\t_\\t_\\t10\\tadvmod\\t_\\t_\\n12\\tповорачивали\\tповорачивать\\tVERB\\t_\\tAspect=Imp|Mood=Ind|Number=Plur|Tense=Past|VerbForm=Fin|Voice=Act\\t0\\troot\\t_\\t_\\n13\\tв\\tв\\tADP\\t_\\t_\\t15\\tcase\\t_\\t_\\n14\\tобратную\\tобратный\\tADJ\\t_\\tCase=Acc|Degree=Pos|Gender=Fem|Number=Sing\\t15\\tamod\\t_\\t_\\n15\\tсторону\\tсторона\\tNOUN\\t_\\tAnimacy=Inan|Case=Acc|Gender=Fem|Number=Sing\\t12\\tobl\\t_\\t_\\n16\\tи\\tи\\tCCONJ\\t_\\t_\\t17\\tcc\\t_\\t_\\n17\\tпрятались\\tпрятаться\\tVERB\\t_\\tAspect=Imp|Mood=Ind|Number=Plur|Tense=Past|VerbForm=Fin|Voice=Mid\\t12\\tconj\\t_\\t_\\n18\\tпо\\tпо\\tADP\\t_\\t_\\t19\\tcase\\t_\\t_\\n19\\tдомам\\tдом\\tNOUN\\t_\\tAnimacy=Inan|Case=Dat|Gender=Masc|Number=Plur\\t17\\tobl\\t_\\t_', '1\\tУ\\tу\\tADP\\t_\\t_\\t2\\tcase\\t_\\t_\\n2\\tНезнайки\\tнезнайка\\tPROPN\\t_\\tAnimacy=Anim|Case=Gen|Gender=Masc|Number=Sing\\t3\\tobl\\t_\\t_\\n3\\tбыл\\tбыть\\tVERB\\t_\\tAspect=Imp|Gender=Masc|Mood=Ind|Number=Sing|Tense=Past|VerbForm=Fin|Voice=Act\\t0\\troot\\t_\\t_\\n4\\tдруг\\tдруг\\tNOUN\\t_\\tAnimacy=Anim|Case=Nom|Gender=Masc|Number=Sing\\t3\\tnsubj\\t_\\t_\\n5\\t,\\t,\\tPUNCT\\t_\\t_\\t7\\tpunct\\t_\\t_\\n6\\tпо\\tпо\\tADP\\t_\\t_\\t7\\tcase\\t_\\t_\\n7\\tимени\\tимя\\tNOUN\\t_\\tAnimacy=Inan|Case=Dat|Gender=Neut|Number=Sing\\t4\\tnmod\\t_\\t_\\n8\\tГунька\\tгунька\\tPROPN\\t_\\tAnimacy=Anim|Case=Nom|Gender=Masc|Number=Sing\\t7\\tnmod\\t_\\t_\\n9\\t,\\t,\\tPUNCT\\t_\\t_\\t11\\tpunct\\t_\\t_\\n10\\tкоторый\\tкоторый\\tPRON\\t_\\tCase=Nom\\t11\\tnsubj\\t_\\t_\\n11\\tжил\\tжить\\tVERB\\t_\\tAspect=Imp|Gender=Masc|Mood=Ind|Number=Sing|Tense=Past|VerbForm=Fin|Voice=Act\\t4\\tacl:relcl\\t_\\t_\\n12\\tна\\tна\\tADP\\t_\\t_\\t13\\tcase\\t_\\t_\\n13\\tулице\\tулица\\tNOUN\\t_\\tAnimacy=Inan|Case=Loc|Gender=Fem|Number=Sing\\t11\\tobl\\t_\\t_\\n14\\tМаргариток\\tмаргаритка\\tPROPN\\t_\\tAnimacy=Anim|Case=Nom|Gender=Masc|Number=Sing\\t13\\tappos\\t_\\t_', '1\\tС\\tс\\tADP\\t_\\t_\\t2\\tcase\\t_\\t_\\n2\\tГунькой\\tгунька\\tPROPN\\t_\\tAnimacy=Anim|Case=Ins|Gender=Masc|Number=Sing\\t4\\tobl\\t_\\t_\\n3\\tНезнайка\\tнезнайка\\tPROPN\\t_\\tAnimacy=Anim|Case=Nom|Gender=Masc|Number=Sing\\t4\\tnsubj\\t_\\t_\\n4\\tмог\\tмочь\\tVERB\\t_\\tAspect=Imp|Gender=Masc|Mood=Ind|Number=Sing|Tense=Past|VerbForm=Fin|Voice=Act\\t0\\troot\\t_\\t_\\n5\\tболтать\\tболтать\\tVERB\\t_\\tAspect=Imp|VerbForm=Inf|Voice=Act\\t4\\txcomp\\t_\\t_\\n6\\tпо\\tпо\\tADP\\t_\\t_\\t8\\tcase\\t_\\t_\\n7\\tцелым\\tцелый\\tADJ\\t_\\tCase=Dat|Degree=Pos|Number=Plur\\t8\\tamod\\t_\\t_\\n8\\tчасам\\tчас\\tNOUN\\t_\\tAnimacy=Inan|Case=Dat|Gender=Masc|Number=Plur\\t5\\tobl\\t_\\t_', '1\\tОни\\tони\\tPRON\\t_\\tCase=Nom|Number=Plur|Person=3\\t6\\tnsubj\\t_\\t_\\n2\\tдвадцать\\tдвадцать\\tNUM\\t_\\tCase=Acc\\t3\\tnummod:gov\\t_\\t_\\n3\\tраз\\tраз\\tNOUN\\t_\\tAnimacy=Inan|Case=Gen|Gender=Masc|Number=Plur\\t6\\tobl\\t_\\t_\\n4\\tна\\tна\\tADP\\t_\\t_\\t5\\tcase\\t_\\t_\\n5\\tдень\\tдень\\tNOUN\\t_\\tAnimacy=Inan|Case=Acc|Gender=Masc|Number=Sing\\t3\\tnmod\\t_\\t_\\n6\\tссорились\\tссориться\\tVERB\\t_\\tAspect=Imp|Mood=Ind|Number=Plur|Tense=Past|VerbForm=Fin|Voice=Mid\\t0\\troot\\t_\\t_\\n7\\tмежду\\tмежду\\tADP\\t_\\t_\\t8\\tcase\\t_\\t_\\n8\\tсобой\\tсебя\\tPRON\\t_\\tCase=Ins\\t6\\tobl\\t_\\t_\\n9\\tи\\tи\\tCCONJ\\t_\\t_\\t14\\tcc\\t_\\t_\\n10\\tдвадцать\\tдвадцать\\tNUM\\t_\\tCase=Acc\\t11\\tnummod:gov\\t_\\t_\\n11\\tраз\\tраз\\tNOUN\\t_\\tAnimacy=Inan|Case=Gen|Gender=Masc|Number=Plur\\t14\\tobl\\t_\\t_\\n12\\tна\\tна\\tADP\\t_\\t_\\t13\\tcase\\t_\\t_\\n13\\tдень\\tдень\\tNOUN\\t_\\tAnimacy=Inan|Case=Acc|Gender=Masc|Number=Sing\\t11\\tnmod\\t_\\t_\\n14\\tмирились\\tмириться\\tVERB\\t_\\tAspect=Imp|Mood=Ind|Number=Plur|Tense=Past|VerbForm=Fin|Voice=Mid\\t6\\tconj\\t_\\t_\\n15\\t.\\t.\\tPUNCT\\t_\\t_\\t6\\tpunct\\t_\\t_']\n"
     ]
    }
   ],
   "source": [
    "from deeppavlov import build_model, configs\n",
    "# model = build_model(configs.syntax.syntax_ru_syntagrus_bert, download=True)\n",
    "model = build_model(\"ru_syntagrus_joint_parsing\")#, download=True)\n",
    "res = model(text.split('. '))\n",
    "print(res)"
   ]
  },
  {
   "cell_type": "code",
   "execution_count": 16,
   "metadata": {
    "ExecuteTime": {
     "end_time": "2022-10-20T11:57:11.736518Z",
     "start_time": "2022-10-20T11:57:05.639820Z"
    },
    "scrolled": true
   },
   "outputs": [
    {
     "name": "stdout",
     "output_type": "stream",
     "text": [
      "Requirement already satisfied: spacy in /home/petr/.local/share/virtualenvs/scripts-SYm7cvvS/lib/python3.7/site-packages (3.4.2)\n",
      "Collecting spacy_conll\n",
      "  Downloading spacy_conll-3.2.0-py3-none-any.whl (21 kB)\n",
      "Requirement already satisfied: spacy-loggers<2.0.0,>=1.0.0 in /home/petr/.local/share/virtualenvs/scripts-SYm7cvvS/lib/python3.7/site-packages (from spacy) (1.0.3)\n",
      "Requirement already satisfied: pydantic!=1.8,!=1.8.1,<1.11.0,>=1.7.4 in /home/petr/.local/share/virtualenvs/scripts-SYm7cvvS/lib/python3.7/site-packages (from spacy) (1.10.2)\n",
      "Requirement already satisfied: setuptools in /home/petr/.local/share/virtualenvs/scripts-SYm7cvvS/lib/python3.7/site-packages (from spacy) (60.1.0)\n",
      "Requirement already satisfied: srsly<3.0.0,>=2.4.3 in /home/petr/.local/share/virtualenvs/scripts-SYm7cvvS/lib/python3.7/site-packages (from spacy) (2.4.5)\n",
      "Requirement already satisfied: murmurhash<1.1.0,>=0.28.0 in /home/petr/.local/share/virtualenvs/scripts-SYm7cvvS/lib/python3.7/site-packages (from spacy) (1.0.9)\n",
      "Requirement already satisfied: langcodes<4.0.0,>=3.2.0 in /home/petr/.local/share/virtualenvs/scripts-SYm7cvvS/lib/python3.7/site-packages (from spacy) (3.3.0)\n",
      "Requirement already satisfied: tqdm<5.0.0,>=4.38.0 in /home/petr/.local/share/virtualenvs/scripts-SYm7cvvS/lib/python3.7/site-packages (from spacy) (4.62.0)\n",
      "Requirement already satisfied: spacy-legacy<3.1.0,>=3.0.10 in /home/petr/.local/share/virtualenvs/scripts-SYm7cvvS/lib/python3.7/site-packages (from spacy) (3.0.10)\n",
      "Requirement already satisfied: pathy>=0.3.5 in /home/petr/.local/share/virtualenvs/scripts-SYm7cvvS/lib/python3.7/site-packages (from spacy) (0.6.2)\n",
      "Requirement already satisfied: wasabi<1.1.0,>=0.9.1 in /home/petr/.local/share/virtualenvs/scripts-SYm7cvvS/lib/python3.7/site-packages (from spacy) (0.10.1)\n",
      "Requirement already satisfied: requests<3.0.0,>=2.13.0 in /home/petr/.local/share/virtualenvs/scripts-SYm7cvvS/lib/python3.7/site-packages (from spacy) (2.22.0)\n",
      "Requirement already satisfied: typer<0.5.0,>=0.3.0 in /home/petr/.local/share/virtualenvs/scripts-SYm7cvvS/lib/python3.7/site-packages (from spacy) (0.4.2)\n",
      "Requirement already satisfied: cymem<2.1.0,>=2.0.2 in /home/petr/.local/share/virtualenvs/scripts-SYm7cvvS/lib/python3.7/site-packages (from spacy) (2.0.7)\n",
      "Requirement already satisfied: catalogue<2.1.0,>=2.0.6 in /home/petr/.local/share/virtualenvs/scripts-SYm7cvvS/lib/python3.7/site-packages (from spacy) (2.0.8)\n",
      "Requirement already satisfied: thinc<8.2.0,>=8.1.0 in /home/petr/.local/share/virtualenvs/scripts-SYm7cvvS/lib/python3.7/site-packages (from spacy) (8.1.5)\n",
      "Requirement already satisfied: numpy>=1.15.0 in /home/petr/.local/share/virtualenvs/scripts-SYm7cvvS/lib/python3.7/site-packages (from spacy) (1.18.0)\n",
      "Requirement already satisfied: packaging>=20.0 in /home/petr/.local/share/virtualenvs/scripts-SYm7cvvS/lib/python3.7/site-packages (from spacy) (21.3)\n",
      "Requirement already satisfied: preshed<3.1.0,>=3.0.2 in /home/petr/.local/share/virtualenvs/scripts-SYm7cvvS/lib/python3.7/site-packages (from spacy) (3.0.8)\n",
      "Requirement already satisfied: jinja2 in /home/petr/.local/share/virtualenvs/scripts-SYm7cvvS/lib/python3.7/site-packages (from spacy) (3.1.2)\n",
      "Requirement already satisfied: typing-extensions<4.2.0,>=3.7.4 in /home/petr/.local/share/virtualenvs/scripts-SYm7cvvS/lib/python3.7/site-packages (from spacy) (4.1.1)\n",
      "Requirement already satisfied: zipp>=0.5 in /home/petr/.local/share/virtualenvs/scripts-SYm7cvvS/lib/python3.7/site-packages (from catalogue<2.1.0,>=2.0.6->spacy) (3.9.0)\n",
      "Requirement already satisfied: pyparsing!=3.0.5,>=2.0.2 in /home/petr/.local/share/virtualenvs/scripts-SYm7cvvS/lib/python3.7/site-packages (from packaging>=20.0->spacy) (3.0.9)\n",
      "Requirement already satisfied: smart-open<6.0.0,>=5.2.1 in /home/petr/.local/share/virtualenvs/scripts-SYm7cvvS/lib/python3.7/site-packages (from pathy>=0.3.5->spacy) (5.2.1)\n",
      "Requirement already satisfied: idna<2.9,>=2.5 in /home/petr/.local/share/virtualenvs/scripts-SYm7cvvS/lib/python3.7/site-packages (from requests<3.0.0,>=2.13.0->spacy) (2.8)\n",
      "Requirement already satisfied: urllib3!=1.25.0,!=1.25.1,<1.26,>=1.21.1 in /home/petr/.local/share/virtualenvs/scripts-SYm7cvvS/lib/python3.7/site-packages (from requests<3.0.0,>=2.13.0->spacy) (1.25.11)\n",
      "Requirement already satisfied: chardet<3.1.0,>=3.0.2 in /home/petr/.local/share/virtualenvs/scripts-SYm7cvvS/lib/python3.7/site-packages (from requests<3.0.0,>=2.13.0->spacy) (3.0.4)\n",
      "Requirement already satisfied: certifi>=2017.4.17 in /home/petr/.local/share/virtualenvs/scripts-SYm7cvvS/lib/python3.7/site-packages (from requests<3.0.0,>=2.13.0->spacy) (2022.9.24)\n",
      "Requirement already satisfied: confection<1.0.0,>=0.0.1 in /home/petr/.local/share/virtualenvs/scripts-SYm7cvvS/lib/python3.7/site-packages (from thinc<8.2.0,>=8.1.0->spacy) (0.0.3)\n",
      "Requirement already satisfied: blis<0.8.0,>=0.7.8 in /home/petr/.local/share/virtualenvs/scripts-SYm7cvvS/lib/python3.7/site-packages (from thinc<8.2.0,>=8.1.0->spacy) (0.7.9)\n",
      "Requirement already satisfied: click<9.0.0,>=7.1.1 in /home/petr/.local/share/virtualenvs/scripts-SYm7cvvS/lib/python3.7/site-packages (from typer<0.5.0,>=0.3.0->spacy) (7.1.2)\n",
      "Requirement already satisfied: MarkupSafe>=2.0 in /home/petr/.local/share/virtualenvs/scripts-SYm7cvvS/lib/python3.7/site-packages (from jinja2->spacy) (2.1.1)\n",
      "Installing collected packages: spacy-conll\n",
      "Successfully installed spacy-conll-3.2.0\n"
     ]
    },
    {
     "name": "stderr",
     "output_type": "stream",
     "text": [
      "/home/petr/.local/share/virtualenvs/scripts-SYm7cvvS/lib/python3.7/site-packages/spacy/displacy/__init__.py:103: UserWarning: [W011] It looks like you're calling displacy.serve from within a Jupyter notebook or a similar environment. This likely means you're already running a local web server, so there's no need to make displaCy start another one. Instead, you should be able to replace displacy.serve with displacy.render to show the visualization.\n",
      "  warnings.warn(Warnings.W011)\n"
     ]
    },
    {
     "ename": "ValueError",
     "evalue": "[E096] Invalid object passed to displaCy: Can only visualize `Doc` or Span objects, or dicts if set to `manual=True`.",
     "output_type": "error",
     "traceback": [
      "\u001b[0;31m---------------------------------------------------------------------------\u001b[0m",
      "\u001b[0;31mValueError\u001b[0m                                Traceback (most recent call last)",
      "\u001b[0;32m/tmp/ipykernel_59890/2657286016.py\u001b[0m in \u001b[0;36m<module>\u001b[0;34m\u001b[0m\n\u001b[1;32m      1\u001b[0m \u001b[0mget_ipython\u001b[0m\u001b[0;34m(\u001b[0m\u001b[0;34m)\u001b[0m\u001b[0;34m.\u001b[0m\u001b[0msystem\u001b[0m\u001b[0;34m(\u001b[0m\u001b[0;34m'pip install spacy spacy_conll'\u001b[0m\u001b[0;34m)\u001b[0m\u001b[0;34m\u001b[0m\u001b[0;34m\u001b[0m\u001b[0m\n\u001b[1;32m      2\u001b[0m \u001b[0;32mimport\u001b[0m \u001b[0mspacy\u001b[0m\u001b[0;34m\u001b[0m\u001b[0;34m\u001b[0m\u001b[0m\n\u001b[0;32m----> 3\u001b[0;31m \u001b[0mspacy\u001b[0m\u001b[0;34m.\u001b[0m\u001b[0mdisplacy\u001b[0m\u001b[0;34m.\u001b[0m\u001b[0mserve\u001b[0m\u001b[0;34m(\u001b[0m\u001b[0mres\u001b[0m\u001b[0;34m)\u001b[0m\u001b[0;34m\u001b[0m\u001b[0;34m\u001b[0m\u001b[0m\n\u001b[0m",
      "\u001b[0;32m~/.local/share/virtualenvs/scripts-SYm7cvvS/lib/python3.7/site-packages/spacy/displacy/__init__.py\u001b[0m in \u001b[0;36mserve\u001b[0;34m(docs, style, page, minify, options, manual, port, host)\u001b[0m\n\u001b[1;32m    102\u001b[0m     \u001b[0;32mif\u001b[0m \u001b[0mis_in_jupyter\u001b[0m\u001b[0;34m(\u001b[0m\u001b[0;34m)\u001b[0m\u001b[0;34m:\u001b[0m\u001b[0;34m\u001b[0m\u001b[0;34m\u001b[0m\u001b[0m\n\u001b[1;32m    103\u001b[0m         \u001b[0mwarnings\u001b[0m\u001b[0;34m.\u001b[0m\u001b[0mwarn\u001b[0m\u001b[0;34m(\u001b[0m\u001b[0mWarnings\u001b[0m\u001b[0;34m.\u001b[0m\u001b[0mW011\u001b[0m\u001b[0;34m)\u001b[0m\u001b[0;34m\u001b[0m\u001b[0;34m\u001b[0m\u001b[0m\n\u001b[0;32m--> 104\u001b[0;31m     \u001b[0mrender\u001b[0m\u001b[0;34m(\u001b[0m\u001b[0mdocs\u001b[0m\u001b[0;34m,\u001b[0m \u001b[0mstyle\u001b[0m\u001b[0;34m=\u001b[0m\u001b[0mstyle\u001b[0m\u001b[0;34m,\u001b[0m \u001b[0mpage\u001b[0m\u001b[0;34m=\u001b[0m\u001b[0mpage\u001b[0m\u001b[0;34m,\u001b[0m \u001b[0mminify\u001b[0m\u001b[0;34m=\u001b[0m\u001b[0mminify\u001b[0m\u001b[0;34m,\u001b[0m \u001b[0moptions\u001b[0m\u001b[0;34m=\u001b[0m\u001b[0moptions\u001b[0m\u001b[0;34m,\u001b[0m \u001b[0mmanual\u001b[0m\u001b[0;34m=\u001b[0m\u001b[0mmanual\u001b[0m\u001b[0;34m)\u001b[0m\u001b[0;34m\u001b[0m\u001b[0;34m\u001b[0m\u001b[0m\n\u001b[0m\u001b[1;32m    105\u001b[0m     \u001b[0mhttpd\u001b[0m \u001b[0;34m=\u001b[0m \u001b[0msimple_server\u001b[0m\u001b[0;34m.\u001b[0m\u001b[0mmake_server\u001b[0m\u001b[0;34m(\u001b[0m\u001b[0mhost\u001b[0m\u001b[0;34m,\u001b[0m \u001b[0mport\u001b[0m\u001b[0;34m,\u001b[0m \u001b[0mapp\u001b[0m\u001b[0;34m)\u001b[0m\u001b[0;34m\u001b[0m\u001b[0;34m\u001b[0m\u001b[0m\n\u001b[1;32m    106\u001b[0m     \u001b[0mprint\u001b[0m\u001b[0;34m(\u001b[0m\u001b[0;34mf\"\\nUsing the '{style}' visualizer\"\u001b[0m\u001b[0;34m)\u001b[0m\u001b[0;34m\u001b[0m\u001b[0;34m\u001b[0m\u001b[0m\n",
      "\u001b[0;32m~/.local/share/virtualenvs/scripts-SYm7cvvS/lib/python3.7/site-packages/spacy/displacy/__init__.py\u001b[0m in \u001b[0;36mrender\u001b[0;34m(docs, style, page, minify, jupyter, options, manual)\u001b[0m\n\u001b[1;32m     53\u001b[0m     \u001b[0mdocs\u001b[0m \u001b[0;34m=\u001b[0m \u001b[0;34m[\u001b[0m\u001b[0mobj\u001b[0m \u001b[0;32mif\u001b[0m \u001b[0;32mnot\u001b[0m \u001b[0misinstance\u001b[0m\u001b[0;34m(\u001b[0m\u001b[0mobj\u001b[0m\u001b[0;34m,\u001b[0m \u001b[0mSpan\u001b[0m\u001b[0;34m)\u001b[0m \u001b[0;32melse\u001b[0m \u001b[0mobj\u001b[0m\u001b[0;34m.\u001b[0m\u001b[0mas_doc\u001b[0m\u001b[0;34m(\u001b[0m\u001b[0;34m)\u001b[0m \u001b[0;32mfor\u001b[0m \u001b[0mobj\u001b[0m \u001b[0;32min\u001b[0m \u001b[0mdocs\u001b[0m\u001b[0;34m]\u001b[0m\u001b[0;34m\u001b[0m\u001b[0;34m\u001b[0m\u001b[0m\n\u001b[1;32m     54\u001b[0m     \u001b[0;32mif\u001b[0m \u001b[0;32mnot\u001b[0m \u001b[0mall\u001b[0m\u001b[0;34m(\u001b[0m\u001b[0misinstance\u001b[0m\u001b[0;34m(\u001b[0m\u001b[0mobj\u001b[0m\u001b[0;34m,\u001b[0m \u001b[0;34m(\u001b[0m\u001b[0mDoc\u001b[0m\u001b[0;34m,\u001b[0m \u001b[0mSpan\u001b[0m\u001b[0;34m,\u001b[0m \u001b[0mdict\u001b[0m\u001b[0;34m)\u001b[0m\u001b[0;34m)\u001b[0m \u001b[0;32mfor\u001b[0m \u001b[0mobj\u001b[0m \u001b[0;32min\u001b[0m \u001b[0mdocs\u001b[0m\u001b[0;34m)\u001b[0m\u001b[0;34m:\u001b[0m\u001b[0;34m\u001b[0m\u001b[0;34m\u001b[0m\u001b[0m\n\u001b[0;32m---> 55\u001b[0;31m         \u001b[0;32mraise\u001b[0m \u001b[0mValueError\u001b[0m\u001b[0;34m(\u001b[0m\u001b[0mErrors\u001b[0m\u001b[0;34m.\u001b[0m\u001b[0mE096\u001b[0m\u001b[0;34m)\u001b[0m\u001b[0;34m\u001b[0m\u001b[0;34m\u001b[0m\u001b[0m\n\u001b[0m\u001b[1;32m     56\u001b[0m     \u001b[0mrenderer_func\u001b[0m\u001b[0;34m,\u001b[0m \u001b[0mconverter\u001b[0m \u001b[0;34m=\u001b[0m \u001b[0mfactories\u001b[0m\u001b[0;34m[\u001b[0m\u001b[0mstyle\u001b[0m\u001b[0;34m]\u001b[0m\u001b[0;34m\u001b[0m\u001b[0;34m\u001b[0m\u001b[0m\n\u001b[1;32m     57\u001b[0m     \u001b[0mrenderer\u001b[0m \u001b[0;34m=\u001b[0m \u001b[0mrenderer_func\u001b[0m\u001b[0;34m(\u001b[0m\u001b[0moptions\u001b[0m\u001b[0;34m=\u001b[0m\u001b[0moptions\u001b[0m\u001b[0;34m)\u001b[0m\u001b[0;34m\u001b[0m\u001b[0;34m\u001b[0m\u001b[0m\n",
      "\u001b[0;31mValueError\u001b[0m: [E096] Invalid object passed to displaCy: Can only visualize `Doc` or Span objects, or dicts if set to `manual=True`."
     ]
    }
   ],
   "source": [
    "# !pip install spacy spacy_conll\n",
    "import spacy"
   ]
  },
  {
   "cell_type": "code",
   "execution_count": 18,
   "metadata": {
    "ExecuteTime": {
     "end_time": "2022-10-20T12:03:21.506816Z",
     "start_time": "2022-10-20T12:02:54.790134Z"
    },
    "scrolled": true
   },
   "outputs": [
    {
     "name": "stdout",
     "output_type": "stream",
     "text": [
      "Collecting ru-core-news-sm==3.4.0\n",
      "  Downloading https://github.com/explosion/spacy-models/releases/download/ru_core_news_sm-3.4.0/ru_core_news_sm-3.4.0-py3-none-any.whl (15.3 MB)\n",
      "     |████████████████████████████████| 15.3 MB 1.1 MB/s            \n",
      "\u001b[?25hCollecting pymorphy2>=0.9\n",
      "  Using cached pymorphy2-0.9.1-py3-none-any.whl (55 kB)\n",
      "Requirement already satisfied: spacy<3.5.0,>=3.4.0 in /home/petr/.local/share/virtualenvs/scripts-SYm7cvvS/lib/python3.7/site-packages (from ru-core-news-sm==3.4.0) (3.4.2)\n",
      "Requirement already satisfied: dawg-python>=0.7.1 in /home/petr/.local/share/virtualenvs/scripts-SYm7cvvS/lib/python3.7/site-packages (from pymorphy2>=0.9->ru-core-news-sm==3.4.0) (0.7.2)\n",
      "Requirement already satisfied: pymorphy2-dicts-ru<3.0,>=2.4 in /home/petr/.local/share/virtualenvs/scripts-SYm7cvvS/lib/python3.7/site-packages (from pymorphy2>=0.9->ru-core-news-sm==3.4.0) (2.4.417127.4579844)\n",
      "Requirement already satisfied: docopt>=0.6 in /home/petr/.local/share/virtualenvs/scripts-SYm7cvvS/lib/python3.7/site-packages (from pymorphy2>=0.9->ru-core-news-sm==3.4.0) (0.6.2)\n",
      "Requirement already satisfied: numpy>=1.15.0 in /home/petr/.local/share/virtualenvs/scripts-SYm7cvvS/lib/python3.7/site-packages (from spacy<3.5.0,>=3.4.0->ru-core-news-sm==3.4.0) (1.18.0)\n",
      "Requirement already satisfied: pathy>=0.3.5 in /home/petr/.local/share/virtualenvs/scripts-SYm7cvvS/lib/python3.7/site-packages (from spacy<3.5.0,>=3.4.0->ru-core-news-sm==3.4.0) (0.6.2)\n",
      "Requirement already satisfied: pydantic!=1.8,!=1.8.1,<1.11.0,>=1.7.4 in /home/petr/.local/share/virtualenvs/scripts-SYm7cvvS/lib/python3.7/site-packages (from spacy<3.5.0,>=3.4.0->ru-core-news-sm==3.4.0) (1.10.2)\n",
      "Requirement already satisfied: preshed<3.1.0,>=3.0.2 in /home/petr/.local/share/virtualenvs/scripts-SYm7cvvS/lib/python3.7/site-packages (from spacy<3.5.0,>=3.4.0->ru-core-news-sm==3.4.0) (3.0.8)\n",
      "Requirement already satisfied: murmurhash<1.1.0,>=0.28.0 in /home/petr/.local/share/virtualenvs/scripts-SYm7cvvS/lib/python3.7/site-packages (from spacy<3.5.0,>=3.4.0->ru-core-news-sm==3.4.0) (1.0.9)\n",
      "Requirement already satisfied: packaging>=20.0 in /home/petr/.local/share/virtualenvs/scripts-SYm7cvvS/lib/python3.7/site-packages (from spacy<3.5.0,>=3.4.0->ru-core-news-sm==3.4.0) (21.3)\n",
      "Requirement already satisfied: langcodes<4.0.0,>=3.2.0 in /home/petr/.local/share/virtualenvs/scripts-SYm7cvvS/lib/python3.7/site-packages (from spacy<3.5.0,>=3.4.0->ru-core-news-sm==3.4.0) (3.3.0)\n",
      "Requirement already satisfied: typer<0.5.0,>=0.3.0 in /home/petr/.local/share/virtualenvs/scripts-SYm7cvvS/lib/python3.7/site-packages (from spacy<3.5.0,>=3.4.0->ru-core-news-sm==3.4.0) (0.4.2)\n",
      "Requirement already satisfied: wasabi<1.1.0,>=0.9.1 in /home/petr/.local/share/virtualenvs/scripts-SYm7cvvS/lib/python3.7/site-packages (from spacy<3.5.0,>=3.4.0->ru-core-news-sm==3.4.0) (0.10.1)\n",
      "Requirement already satisfied: requests<3.0.0,>=2.13.0 in /home/petr/.local/share/virtualenvs/scripts-SYm7cvvS/lib/python3.7/site-packages (from spacy<3.5.0,>=3.4.0->ru-core-news-sm==3.4.0) (2.22.0)\n",
      "Requirement already satisfied: setuptools in /home/petr/.local/share/virtualenvs/scripts-SYm7cvvS/lib/python3.7/site-packages (from spacy<3.5.0,>=3.4.0->ru-core-news-sm==3.4.0) (60.1.0)\n",
      "Requirement already satisfied: tqdm<5.0.0,>=4.38.0 in /home/petr/.local/share/virtualenvs/scripts-SYm7cvvS/lib/python3.7/site-packages (from spacy<3.5.0,>=3.4.0->ru-core-news-sm==3.4.0) (4.62.0)\n",
      "Requirement already satisfied: srsly<3.0.0,>=2.4.3 in /home/petr/.local/share/virtualenvs/scripts-SYm7cvvS/lib/python3.7/site-packages (from spacy<3.5.0,>=3.4.0->ru-core-news-sm==3.4.0) (2.4.5)\n",
      "Requirement already satisfied: spacy-loggers<2.0.0,>=1.0.0 in /home/petr/.local/share/virtualenvs/scripts-SYm7cvvS/lib/python3.7/site-packages (from spacy<3.5.0,>=3.4.0->ru-core-news-sm==3.4.0) (1.0.3)\n",
      "Requirement already satisfied: jinja2 in /home/petr/.local/share/virtualenvs/scripts-SYm7cvvS/lib/python3.7/site-packages (from spacy<3.5.0,>=3.4.0->ru-core-news-sm==3.4.0) (3.1.2)\n",
      "Requirement already satisfied: thinc<8.2.0,>=8.1.0 in /home/petr/.local/share/virtualenvs/scripts-SYm7cvvS/lib/python3.7/site-packages (from spacy<3.5.0,>=3.4.0->ru-core-news-sm==3.4.0) (8.1.5)\n",
      "Requirement already satisfied: catalogue<2.1.0,>=2.0.6 in /home/petr/.local/share/virtualenvs/scripts-SYm7cvvS/lib/python3.7/site-packages (from spacy<3.5.0,>=3.4.0->ru-core-news-sm==3.4.0) (2.0.8)\n",
      "Requirement already satisfied: cymem<2.1.0,>=2.0.2 in /home/petr/.local/share/virtualenvs/scripts-SYm7cvvS/lib/python3.7/site-packages (from spacy<3.5.0,>=3.4.0->ru-core-news-sm==3.4.0) (2.0.7)\n",
      "Requirement already satisfied: typing-extensions<4.2.0,>=3.7.4 in /home/petr/.local/share/virtualenvs/scripts-SYm7cvvS/lib/python3.7/site-packages (from spacy<3.5.0,>=3.4.0->ru-core-news-sm==3.4.0) (4.1.1)\n",
      "Requirement already satisfied: spacy-legacy<3.1.0,>=3.0.10 in /home/petr/.local/share/virtualenvs/scripts-SYm7cvvS/lib/python3.7/site-packages (from spacy<3.5.0,>=3.4.0->ru-core-news-sm==3.4.0) (3.0.10)\n",
      "Requirement already satisfied: zipp>=0.5 in /home/petr/.local/share/virtualenvs/scripts-SYm7cvvS/lib/python3.7/site-packages (from catalogue<2.1.0,>=2.0.6->spacy<3.5.0,>=3.4.0->ru-core-news-sm==3.4.0) (3.9.0)\n",
      "Requirement already satisfied: pyparsing!=3.0.5,>=2.0.2 in /home/petr/.local/share/virtualenvs/scripts-SYm7cvvS/lib/python3.7/site-packages (from packaging>=20.0->spacy<3.5.0,>=3.4.0->ru-core-news-sm==3.4.0) (3.0.9)\n",
      "Requirement already satisfied: smart-open<6.0.0,>=5.2.1 in /home/petr/.local/share/virtualenvs/scripts-SYm7cvvS/lib/python3.7/site-packages (from pathy>=0.3.5->spacy<3.5.0,>=3.4.0->ru-core-news-sm==3.4.0) (5.2.1)\n",
      "Requirement already satisfied: certifi>=2017.4.17 in /home/petr/.local/share/virtualenvs/scripts-SYm7cvvS/lib/python3.7/site-packages (from requests<3.0.0,>=2.13.0->spacy<3.5.0,>=3.4.0->ru-core-news-sm==3.4.0) (2022.9.24)\n",
      "Requirement already satisfied: urllib3!=1.25.0,!=1.25.1,<1.26,>=1.21.1 in /home/petr/.local/share/virtualenvs/scripts-SYm7cvvS/lib/python3.7/site-packages (from requests<3.0.0,>=2.13.0->spacy<3.5.0,>=3.4.0->ru-core-news-sm==3.4.0) (1.25.11)\n",
      "Requirement already satisfied: idna<2.9,>=2.5 in /home/petr/.local/share/virtualenvs/scripts-SYm7cvvS/lib/python3.7/site-packages (from requests<3.0.0,>=2.13.0->spacy<3.5.0,>=3.4.0->ru-core-news-sm==3.4.0) (2.8)\n",
      "Requirement already satisfied: chardet<3.1.0,>=3.0.2 in /home/petr/.local/share/virtualenvs/scripts-SYm7cvvS/lib/python3.7/site-packages (from requests<3.0.0,>=2.13.0->spacy<3.5.0,>=3.4.0->ru-core-news-sm==3.4.0) (3.0.4)\n",
      "Requirement already satisfied: confection<1.0.0,>=0.0.1 in /home/petr/.local/share/virtualenvs/scripts-SYm7cvvS/lib/python3.7/site-packages (from thinc<8.2.0,>=8.1.0->spacy<3.5.0,>=3.4.0->ru-core-news-sm==3.4.0) (0.0.3)\n",
      "Requirement already satisfied: blis<0.8.0,>=0.7.8 in /home/petr/.local/share/virtualenvs/scripts-SYm7cvvS/lib/python3.7/site-packages (from thinc<8.2.0,>=8.1.0->spacy<3.5.0,>=3.4.0->ru-core-news-sm==3.4.0) (0.7.9)\n",
      "Requirement already satisfied: click<9.0.0,>=7.1.1 in /home/petr/.local/share/virtualenvs/scripts-SYm7cvvS/lib/python3.7/site-packages (from typer<0.5.0,>=0.3.0->spacy<3.5.0,>=3.4.0->ru-core-news-sm==3.4.0) (7.1.2)\n",
      "Requirement already satisfied: MarkupSafe>=2.0 in /home/petr/.local/share/virtualenvs/scripts-SYm7cvvS/lib/python3.7/site-packages (from jinja2->spacy<3.5.0,>=3.4.0->ru-core-news-sm==3.4.0) (2.1.1)\n",
      "Installing collected packages: pymorphy2, ru-core-news-sm\n",
      "  Attempting uninstall: pymorphy2\n",
      "    Found existing installation: pymorphy2 0.8\n",
      "    Uninstalling pymorphy2-0.8:\n",
      "      Successfully uninstalled pymorphy2-0.8\n",
      "\u001b[31mERROR: pip's dependency resolver does not currently take into account all the packages that are installed. This behaviour is the source of the following dependency conflicts.\n",
      "deeppavlov 0.17.6 requires pydantic==1.3, but you have pydantic 1.10.2 which is incompatible.\n",
      "deeppavlov 0.17.6 requires pymorphy2==0.8, but you have pymorphy2 0.9.1 which is incompatible.\u001b[0m\n",
      "Successfully installed pymorphy2-0.9.1 ru-core-news-sm-3.4.0\n",
      "\u001b[38;5;2m✔ Download and installation successful\u001b[0m\n",
      "You can now load the package via spacy.load('ru_core_news_sm')\n"
     ]
    }
   ],
   "source": [
    "# !python -m spacy download ru_core_news_sm"
   ]
  },
  {
   "cell_type": "code",
   "execution_count": 1,
   "metadata": {
    "ExecuteTime": {
     "end_time": "2022-10-27T15:14:12.743143Z",
     "start_time": "2022-10-27T15:14:12.735631Z"
    }
   },
   "outputs": [],
   "source": [
    "import pickle\n",
    "# from spacy_conll import init_parser\n",
    "# from spacy_conll.parser import ConllParser"
   ]
  },
  {
   "cell_type": "code",
   "execution_count": 25,
   "metadata": {
    "ExecuteTime": {
     "end_time": "2022-10-23T19:27:47.071428Z",
     "start_time": "2022-10-23T19:27:43.895527Z"
    }
   },
   "outputs": [],
   "source": [
    "nlp = ConllParser(init_parser(\"ru_core_news_sm\", \"spacy\"))"
   ]
  },
  {
   "cell_type": "code",
   "execution_count": 139,
   "metadata": {
    "ExecuteTime": {
     "end_time": "2022-10-27T11:04:34.482966Z",
     "start_time": "2022-10-27T11:04:33.940200Z"
    },
    "scrolled": true
   },
   "outputs": [],
   "source": [
    "docs = [nlp.parse_conll_text_as_spacy(i) for i in res] \n",
    "# spacy.displacy.serve(doc)"
   ]
  },
  {
   "cell_type": "code",
   "execution_count": 140,
   "metadata": {
    "ExecuteTime": {
     "end_time": "2022-10-27T11:04:45.674180Z",
     "start_time": "2022-10-27T11:04:41.900649Z"
    }
   },
   "outputs": [],
   "source": [
    "pickle.dump(docs, open('spacy_text.dat', 'wb'))"
   ]
  },
  {
   "cell_type": "code",
   "execution_count": 2,
   "metadata": {
    "ExecuteTime": {
     "end_time": "2022-10-27T15:14:32.432492Z",
     "start_time": "2022-10-27T15:14:18.570178Z"
    }
   },
   "outputs": [],
   "source": [
    "docs = pickle.load(open('spacy_text.dat', 'rb'))"
   ]
  },
  {
   "cell_type": "code",
   "execution_count": 3,
   "metadata": {
    "ExecuteTime": {
     "end_time": "2022-10-27T15:14:32.478086Z",
     "start_time": "2022-10-27T15:14:32.440054Z"
    },
    "scrolled": true
   },
   "outputs": [
    {
     "name": "stdout",
     "output_type": "stream",
     "text": [
      "доктор [nsubj/NOUN]\n",
      "  известный [amod/ADJ]\n",
      "  Пилюлькин [appos/PROPN]\n",
      "  лечил [acl:relcl/VERB]\n",
      "      который [nsubj/PRON]\n",
      "      коротышек [obj/NOUN]\n",
      "      болезней [obl/NOUN]\n",
      "            от [case/ADP]\n",
      "            всех [det/DET]\n",
      "  жил [ROOT/VERB]\n",
      "      домике [obl/NOUN]\n",
      "            В [case/ADP]\n",
      "            этом [det/DET]\n",
      "                    же [advmod/PART]\n",
      "\n",
      "который [nsubj/PRON]\n",
      "  лечил [acl:relcl/VERB]\n",
      "      коротышек [obj/NOUN]\n",
      "      болезней [obl/NOUN]\n",
      "            от [case/ADP]\n",
      "            всех [det/DET]\n",
      "\n"
     ]
    }
   ],
   "source": [
    "from spacy.symbols import nsubj, VERB, NOUN, appos, NAMES, punct, conj\n",
    "from pprint import pprint\n",
    "from dataclasses import dataclass\n",
    "\n",
    "@dataclass\n",
    "class Tkn:\n",
    "    idx: int\n",
    "    text: str\n",
    "    dep: str\n",
    "    pos: str\n",
    "    child: list\n",
    "\n",
    "    def __str__(self):\n",
    "        return f\"{self.text} [{self.dep}/{self.pos}]\"\n",
    "\n",
    "def generate(root):\n",
    "    used = set()\n",
    "    \n",
    "    def _run(token):\n",
    "        if token.idx in used:\n",
    "            return None\n",
    "        used.add(token.idx)\n",
    "\n",
    "        if token.dep == conj:\n",
    "            return None\n",
    "\n",
    "        t = Tkn(token.idx, token.text, token.dep_, token.pos_, [])\n",
    "\n",
    "        for ch in token.children:\n",
    "            if ch.dep == punct: continue\n",
    "            res = _run(ch)\n",
    "            if res is not None:\n",
    "                t.child.append(res)\n",
    "\n",
    "        root = token.head\n",
    "        if root.pos_ == 'VERB':\n",
    "            res = _run(root)\n",
    "            if res is not None:\n",
    "                t.child.append(res)\n",
    "\n",
    "        return t\n",
    "    \n",
    "    return _run(root)\n",
    "\n",
    "for i in docs[0].sents:\n",
    "    for token in i:\n",
    "        if token.dep == nsubj:\n",
    "            r = generate(token)\n",
    "\n",
    "            def p(x: Tkn, lvl: int = 1):\n",
    "                if x is None: return []\n",
    "                lines = [str(x)]\n",
    "                for i in x.child:\n",
    "                    lines += [('  ' * lvl + l) for l in p(i, lvl+1)]\n",
    "                return lines\n",
    "\n",
    "            r = p(r)\n",
    "            print(*r, sep=\"\\n\")\n",
    "            print()\n",
    "#     break\n"
   ]
  }
 ],
 "metadata": {
  "kernelspec": {
   "display_name": "Python 3 (ipykernel)",
   "language": "python",
   "name": "python3"
  },
  "language_info": {
   "codemirror_mode": {
    "name": "ipython",
    "version": 3
   },
   "file_extension": ".py",
   "mimetype": "text/x-python",
   "name": "python",
   "nbconvert_exporter": "python",
   "pygments_lexer": "ipython3",
   "version": "3.7.13"
  },
  "toc": {
   "base_numbering": 1,
   "nav_menu": {},
   "number_sections": true,
   "sideBar": true,
   "skip_h1_title": false,
   "title_cell": "Table of Contents",
   "title_sidebar": "Contents",
   "toc_cell": false,
   "toc_position": {},
   "toc_section_display": true,
   "toc_window_display": false
  }
 },
 "nbformat": 4,
 "nbformat_minor": 1
}
